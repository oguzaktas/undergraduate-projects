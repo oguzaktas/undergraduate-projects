{
 "cells": [
  {
   "cell_type": "markdown",
   "metadata": {},
   "source": [
    "## BLM442 Keşif aktivitesi-5: Makine Öğrenmesi"
   ]
  },
  {
   "cell_type": "markdown",
   "metadata": {},
   "source": [
    "#### İsim/Soyisim: Mehmet Oğuz Aktaş\n",
    "#### Öğrenci Numarası: 150201170\n",
    "#### E-mail: oguzaktass@gmail.com\n",
    "#### Kullanılan datasetlerin adı: Electrical Grid Stability Simulated Data, Countries of the World\n",
    "#### Dataset1 url: https://archive.ics.uci.edu/ml/datasets/Electrical+Grid+Stability+Simulated+Data+\n",
    "#### Dataset2 url: https://www.kaggle.com/fernandol/countries-of-the-world, https://people.sc.fsu.edu/~jburkardt/data/csv/hw_25000.csv"
   ]
  },
  {
   "cell_type": "markdown",
   "metadata": {},
   "source": [
    "#### İntihal: \n",
    "Netten alınacak kısmi kod parçaları önceden kod içinde/raporda belirtilmek ve soru sorulduğunda cevaplanması durumunda sıkıntı çıkarmayacaktır. (i) Internet kaynağını belirtmeyen/açıklayamayan/üzerinde geliştirme yapmayan veya (ii) birbirleriyle benzer/aynı çalışma teslim edenlerin aktiviteleri sıfır üzerinden değerlendirilecektir."
   ]
  },
  {
   "cell_type": "markdown",
   "metadata": {},
   "source": [
    "#### KA-5 Gönderim şekli"
   ]
  },
  {
   "cell_type": "markdown",
   "metadata": {},
   "source": [
    "1-pdf olarak \"ogrenciNo.pdf\" dokumanını gonderme\n",
    "-calisma dosyasında (File -> Print Preview) sonrası olusan html dosyasını yazdır deyip pdf olarak kaydetme veya\n",
    "-(File -> Download as -> HTML) seklinde indirip pdf'e cevirme http://html2pdf.com/\n",
    "\n",
    "2-(File -> Download as -> Notebook) indirip \"ogrenciNo.ipynb\" dokumanını gonderme\n",
    "\n",
    "suleyman.eken@kocaeli.edu.tr"
   ]
  },
  {
   "cell_type": "markdown",
   "metadata": {},
   "source": [
    "#### Kısım 1 (Regresyon Analizi): Daha once kullanmıs oldugunuz (kesif aktivitesi 1 spreadsheet) veriseti üzerindeki kolonlar (Nümerik predictors ve nümerik cikti) arasındaki pozitif ve negatif korelasyonu bulunuz.  r veya R^2  değerlerini belirleyiniz."
   ]
  },
  {
   "cell_type": "code",
   "execution_count": 2,
   "metadata": {},
   "outputs": [
    {
     "name": "stdout",
     "output_type": "stream",
     "text": [
      "[[136.35108456]]\n",
      "Index(['Index', 'Height', 'Weight'], dtype='object')\n"
     ]
    },
    {
     "data": {
      "image/png": "[encoded data removed]",
      "text/plain": [
       "<Figure size 432x288 with 1 Axes>"
      ]
     },
     "metadata": {
      "needs_background": "light"
     },
     "output_type": "display_data"
    },
    {
     "name": "stdout",
     "output_type": "stream",
     "text": [
      "r-squared score:  0.2528666917428809\n"
     ]
    }
   ],
   "source": [
    "# NOT: Kullandigim contries-of-the-world datasetinde numeric degerlerde\n",
    "# surekli farkli sorunlar ortaya ciktigi icin baska bir dataset kullandim.\n",
    "# https://people.sc.fsu.edu/~jburkardt/data/csv/hw_25000.csv\n",
    "\n",
    "import pandas as pd\n",
    "import numpy as np\n",
    "import matplotlib.pyplot as plt\n",
    "from sklearn.linear_model import LinearRegression\n",
    "\n",
    "data = pd.read_csv(\"datasets/hw_25000.csv\")\n",
    "\n",
    "boy = data.Height.values.reshape(-1,1)\n",
    "kilo = data.Weight.values.reshape(-1,1)\n",
    "\n",
    "regression = LinearRegression()\n",
    "regression.fit(boy, kilo)\n",
    "print(regression.predict([[71]]))\n",
    "\n",
    "print(data.columns)\n",
    "\n",
    "plt.scatter(data.Height, data.Weight) # gorsellestirme\n",
    "plt.xlabel(\"Boy\")\n",
    "plt.ylabel(\"Kilo\")\n",
    "plt.show()\n",
    "\n",
    "# R^2 Score degeri\n",
    "print(\"r-squared score: \", regression.score(boy, kilo))"
   ]
  },
  {
   "cell_type": "markdown",
   "metadata": {},
   "source": [
    "#### Kısım 2 (Ekteki verisetlerinden biri üzerinde herhangi bir sınıflandırma algoritması gerçekleme) Sectiginiz verisetini Google Drive'da belirtiniz. Her kişi farklı veriseti seçmelidir. Veriseti üzerinde gerekiyorsa birtakım önişlemler yapılmalı, bir sınıflandırma modeli olusturularak modelin performansı çeşitli metriklerle sunulmalıdır."
   ]
  },
  {
   "cell_type": "markdown",
   "metadata": {},
   "source": [
    "https://docs.google.com/spreadsheets/d/19g8vDmC20FQGo2t-NQNb1MD6jwcJvfIJXwxl7vQCIlA/edit?usp=sharing"
   ]
  },
  {
   "cell_type": "code",
   "execution_count": 3,
   "metadata": {},
   "outputs": [
    {
     "name": "stdout",
     "output_type": "stream",
     "text": [
      "predictions: \n",
      "['stable' 'unstable' 'unstable' 'unstable' 'unstable' 'unstable'\n",
      " 'unstable' 'unstable']\n",
      "\n",
      "gercek degerler: \n",
      "[['unstable']\n",
      " ['stable']\n",
      " ['unstable']\n",
      " ['unstable']\n",
      " ['unstable']\n",
      " ['unstable']\n",
      " ['unstable']\n",
      " ['stable']]\n",
      "\n",
      "confusion matrix: \n",
      "[[0 2]\n",
      " [1 5]]\n"
     ]
    },
    {
     "name": "stderr",
     "output_type": "stream",
     "text": [
      "/home/oguz/anaconda3/lib/python3.7/site-packages/sklearn/linear_model/logistic.py:433: FutureWarning: Default solver will be changed to 'lbfgs' in 0.22. Specify a solver to silence this warning.\n",
      "  FutureWarning)\n",
      "/home/oguz/anaconda3/lib/python3.7/site-packages/sklearn/utils/validation.py:761: DataConversionWarning: A column-vector y was passed when a 1d array was expected. Please change the shape of y to (n_samples, ), for example using ravel().\n",
      "  y = column_or_1d(y, warn=True)\n"
     ]
    }
   ],
   "source": [
    "from sklearn.linear_model import LogisticRegression\n",
    "from sklearn.linear_model import LinearRegression\n",
    "from sklearn.preprocessing import PolynomialFeatures\n",
    "from sklearn.metrics import confusion_matrix\n",
    "\n",
    "# Secilen datasette ilk 8 kayit uzerinden Logistic Regression implemantasyonu yapildi,\n",
    "# confusion matrix metrigi ile performansi gosterildi\n",
    "\n",
    "data = pd.read_csv('datasets/Data_for_UCI_named.csv')\n",
    "\n",
    "x = data.iloc[:,0:4].values # bagimsiz degiskenler\n",
    "y = data.iloc[:,13:].values # bagimli degisken\n",
    "\n",
    "# verilerin egitim ve test icin bolunmesi\n",
    "from sklearn.model_selection import train_test_split\n",
    "x_train, x_test, y_train, y_test = train_test_split(x, y, test_size=0.33, random_state=0)\n",
    "\n",
    "# verilerin olceklenmesi\n",
    "from sklearn.preprocessing import StandardScaler\n",
    "sc = StandardScaler()\n",
    "X_train = sc.fit_transform(x_train)\n",
    "X_test = sc.transform(x_test)\n",
    "\n",
    "# logistic regression\n",
    "logr = LogisticRegression(random_state=0)\n",
    "logr.fit(X_train, y_train)\n",
    "\n",
    "y_pred = logr.predict(X_test)\n",
    "print(\"predictions: \")\n",
    "print(y_pred[0:8]) # prediction'larin cikarilmasi\n",
    "print()\n",
    "print(\"gercek degerler: \")\n",
    "print(y_test[0:8]) # gercek degerler\n",
    "print()\n",
    "\n",
    "# confusion matrix\n",
    "print(\"confusion matrix: \")\n",
    "confusionmatrix = confusion_matrix(y_test[0:8], y_pred[0:8])\n",
    "print(confusionmatrix)"
   ]
  },
  {
   "cell_type": "markdown",
   "metadata": {},
   "source": [
    "#### Kısım 3 (Dünya kupası verini kumeleme) Herhangi bir kümeleme yontemi ile kumelenmeli ve modelin performansı sunulmalıdır."
   ]
  },
  {
   "cell_type": "code",
   "execution_count": 4,
   "metadata": {},
   "outputs": [],
   "source": [
    "# K-Means Clustering yontemi kullanildi.\n",
    "\n",
    "import pandas as pd"
   ]
  },
  {
   "cell_type": "code",
   "execution_count": 5,
   "metadata": {},
   "outputs": [
    {
     "name": "stderr",
     "output_type": "stream",
     "text": [
      "/home/oguz/anaconda3/lib/python3.7/site-packages/ipykernel_launcher.py:1: DeprecationWarning: 'U' mode is deprecated\n",
      "  \"\"\"Entry point for launching an IPython kernel.\n"
     ]
    }
   ],
   "source": [
    "f = open('datasets/Players.csv','rU')\n",
    "players = pd.read_csv(f)"
   ]
  },
  {
   "cell_type": "code",
   "execution_count": 6,
   "metadata": {},
   "outputs": [],
   "source": [
    "players.to_csv('datasets/oyuncu.csv') #kodları silmeden dataframe i kendi bilgisayarınıza kaydedebilirsiniz"
   ]
  },
  {
   "cell_type": "code",
   "execution_count": 7,
   "metadata": {},
   "outputs": [],
   "source": [
    "from sklearn.cluster import KMeans\n",
    "\n",
    "x = players.iloc[:,4:6].values # Sut ve Pas sayisi"
   ]
  },
  {
   "cell_type": "code",
   "execution_count": 8,
   "metadata": {},
   "outputs": [
    {
     "name": "stdout",
     "output_type": "stream",
     "text": [
      "[[  1.74788136  52.90254237]\n",
      " [  4.43902439 205.85365854]]\n"
     ]
    },
    {
     "data": {
      "text/plain": [
       "[<matplotlib.lines.Line2D at 0x7fe59b8b1f98>]"
      ]
     },
     "execution_count": 8,
     "metadata": {},
     "output_type": "execute_result"
    },
    {
     "data": {
      "image/png": "[encoded data removed]",
      "text/plain": [
       "<Figure size 432x288 with 1 Axes>"
      ]
     },
     "metadata": {
      "needs_background": "light"
     },
     "output_type": "display_data"
    }
   ],
   "source": [
    "kmeans = KMeans(n_clusters=2, init='k-means++') # Pas ve sut sayisi olarak 2 merkez noktasi (n_clusters) verir.\n",
    "kmeans.fit(x)\n",
    "\n",
    "print(kmeans.cluster_centers_) # merkez noktalari\n",
    "\n",
    "sonuclar = []\n",
    "\n",
    "for i in range(1,11):\n",
    "    kmeans = KMeans(n_clusters=i, init='k-means++', random_state=123)\n",
    "    kmeans.fit(x)\n",
    "    sonuclar.append(kmeans.inertia_)\n",
    "    \n",
    "plt.plot(range(1,11), sonuclar) # K-Means WCSS values"
   ]
  },
  {
   "cell_type": "markdown",
   "metadata": {},
   "source": [
    "#### Yararlandığım kaynaklar;\n",
    "https://www.kaggle.com/charlesxjyang/linear-regression-methods-w-0-95-r-2-score\n",
    "\n",
    "https://www.youtube.com/watch?v=Dxf1I4IE6co\n",
    "\n",
    "https://ipython-books.github.io/74-estimating-the-correlation-between-two-variables-with-a-contingency-table-and-a-chi-squared-test/\n",
    "\n",
    "https://scikit-learn.org/stable/modules/generated/sklearn.cluster.KMeans.html\n",
    "\n",
    "https://stackoverflow.com/questions/32370543/understanding-score-returned-by-scikit-learn-kmeans"
   ]
  },
  {
   "cell_type": "code",
   "execution_count": null,
   "metadata": {},
   "outputs": [],
   "source": []
  }
 ],
 "metadata": {
  "kernelspec": {
   "display_name": "Python 3",
   "language": "python",
   "name": "python3"
  },
  "language_info": {
   "codemirror_mode": {
    "name": "ipython",
    "version": 3
   },
   "file_extension": ".py",
   "mimetype": "text/x-python",
   "name": "python",
   "nbconvert_exporter": "python",
   "pygments_lexer": "ipython3",
   "version": "3.7.3"
  }
 },
 "nbformat": 4,
 "nbformat_minor": 2
}
