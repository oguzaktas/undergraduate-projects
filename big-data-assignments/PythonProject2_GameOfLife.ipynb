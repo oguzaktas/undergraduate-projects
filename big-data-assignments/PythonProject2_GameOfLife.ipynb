{
 "cells": [
  {
   "cell_type": "code",
   "execution_count": 1,
   "metadata": {},
   "outputs": [],
   "source": [
    "# Project 2 - Game of Life: Create a class for the Game of Life and then build the game around it\n",
    "\n",
    "import numpy as np\n",
    "from IPython import display\n",
    "import matplotlib.pyplot as plt\n",
    "from matplotlib import colors"
   ]
  },
  {
   "cell_type": "code",
   "execution_count": 2,
   "metadata": {},
   "outputs": [],
   "source": [
    "n = 20\n",
    "board = np.random.choice(2, (n, n), p=[0.8, 0.2])\n",
    "cmap = colors.ListedColormap(['gray', 'black'])"
   ]
  },
  {
   "cell_type": "code",
   "execution_count": 3,
   "metadata": {},
   "outputs": [],
   "source": [
    "neighbors = [(-1, -1), (-1, 0), (-1, 1), (0, -1), (0, 1), (1, -1), (1, 0), (1, 1)]"
   ]
  },
  {
   "cell_type": "code",
   "execution_count": 4,
   "metadata": {},
   "outputs": [
    {
     "data": {
      "image/png": "[encoded data removed]",
      "text/plain": [
       "<Figure size 288x288 with 1 Axes>"
      ]
     },
     "metadata": {},
     "output_type": "display_data"
    }
   ],
   "source": [
    "for i in range(1000):\n",
    "    new_board = board.copy()\n",
    "    for row in range(n):\n",
    "        for column in range(n):\n",
    "            count = 0\n",
    "            new_neighbors = list(zip(np.array(neighbors)[:, 0] + row, np.array(neighbors)[:, 1] + column))\n",
    "            for i in range(8):\n",
    "                r, c = new_neighbors[i]\n",
    "                if not any(i in [r, c] for i in [-1, n]):\n",
    "                    if board[r][c] > 0: count += 1\n",
    "                    if count == 4: break\n",
    "            if board[row][column] > 0:\n",
    "                if count in [2, 3]:\n",
    "                    # 2 veya 3 komsulugu canli olan tum canli hucreler sonraki durumda da canliligini korur.\n",
    "                    new_board[row][column] += 1 if new_board[row][column] < 1 else 0\n",
    "                else:\n",
    "                    # 2'den az canli komsulugu olan canli hucreler olur.\n",
    "                    new_board[row][column] -= 1 if new_board[row][column] > 0 else 0\n",
    "            elif count == 3:\n",
    "                # Tam 3 komsulugu canli olan olu hucreler canlanir.\n",
    "                new_board[row][column] = 1\n",
    "    board = new_board\n",
    "    plt.matshow(board, cmap=cmap)\n",
    "    display.clear_output(wait=True)\n",
    "    plt.grid(False)\n",
    "    plt.axis('off')\n",
    "    display.display(plt.gcf())    \n",
    "    plt.close()"
   ]
  },
  {
   "cell_type": "code",
   "execution_count": 5,
   "metadata": {},
   "outputs": [],
   "source": [
    "# Yararlanilan kaynaklar: https://jakevdp.github.io/blog/2013/08/07/conways-game-of-life/\n",
    "# https://medium.com/@martin.robertandrew/conways-game-of-life-in-python-2900a6dcdc97\n",
    "# https://codereview.stackexchange.com/questions/40886/conways-game-of-life-in-python\n",
    "# https://fiftyexamples.readthedocs.io/en/latest/life.html"
   ]
  },
  {
   "cell_type": "code",
   "execution_count": null,
   "metadata": {},
   "outputs": [],
   "source": []
  }
 ],
 "metadata": {
  "kernelspec": {
   "display_name": "Python 3",
   "language": "python",
   "name": "python3"
  },
  "language_info": {
   "codemirror_mode": {
    "name": "ipython",
    "version": 3
   },
   "file_extension": ".py",
   "mimetype": "text/x-python",
   "name": "python",
   "nbconvert_exporter": "python",
   "pygments_lexer": "ipython3",
   "version": "3.7.0"
  }
 },
 "nbformat": 4,
 "nbformat_minor": 2
}
