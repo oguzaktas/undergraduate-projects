{
 "cells": [
  {
   "cell_type": "markdown",
   "metadata": {},
   "source": [
    "## BLM442 Keşif aktivitesi-2: SQLite üzerinde veri analizi"
   ]
  },
  {
   "cell_type": "markdown",
   "metadata": {},
   "source": [
    "#### İsim/Soyisim: Mehmet Oğuz Aktaş\n",
    "#### Öğrenci Numarası: 150201170\n",
    "#### E-mail: oguzaktass@gmail.com\n",
    "#### Kullanılan datasetlerin adı: Company Acquisitions Data , Countries of the World\n",
    "#### Dataset url: https://www.kaggle.com/shivamb/company-acquisitions-7-top-companies , https://www.kaggle.com/fernandol/countries-of-the-world"
   ]
  },
  {
   "cell_type": "markdown",
   "metadata": {},
   "source": [
    "#### İntihal: \n",
    "Netten alınacak kısmi kod parçaları önceden kod içinde/raporda belirtilmek ve soru sorulduğunda cevaplanması durumunda sıkıntı çıkarmayacaktır. (i) Internet kaynağını belirtmeyen/açıklayamayan/üzerinde geliştirme yapmayan veya (ii) birbirleriyle benzer/aynı çalışma teslim edenlerin aktiviteleri sıfır üzerinden değerlendirilecektir."
   ]
  },
  {
   "cell_type": "markdown",
   "metadata": {},
   "source": [
    "#### KA-2 Gönderim şekli"
   ]
  },
  {
   "cell_type": "markdown",
   "metadata": {},
   "source": [
    "1-pdf olarak \"ogrenciNo.pdf\" dokumanını gonderme\n",
    "-calisma dosyasında (File -> Print Preview) sonrası olusan html dosyasını yazdır deyip pdf olarak kaydetme veya\n",
    "-(File -> Download as -> HTML) seklinde indirip pdf'e cevirme http://html2pdf.com/\n",
    "\n",
    "2-(File -> Download as -> Notebook) indirip \"ogrenciNo.ipynb\" dokumanını gonderme\n",
    "\n",
    "suleyman.eken@kocaeli.edu.tr"
   ]
  },
  {
   "cell_type": "markdown",
   "metadata": {},
   "source": [
    "Problemlerinizin SELECT, WHERE, ORDER BY, SELECT TOP, LIKE, IN, BETWEEN, AS, INTERSECT, GROUP BY, HAVING, COUNT(), MIN() and MAX(), AVG(), SUM(), INNER JOIN, RIGHT (OUTER) JOIN, LEFT (OUTER) JOIN vs. keyword'lerinden birkaçını içermesini sağlayınız."
   ]
  },
  {
   "cell_type": "markdown",
   "metadata": {},
   "source": [
    "#### Problem 1: Dosyayı import ediniz."
   ]
  },
  {
   "cell_type": "code",
   "execution_count": 1,
   "metadata": {},
   "outputs": [
    {
     "name": "stdout",
     "output_type": "stream",
     "text": []
    }
   ],
   "source": [
    ".mode csv\n",
    ".import acquisitions.csv acquisitions\n",
    ".mode columns\n",
    ".headers on"
   ]
  },
  {
   "cell_type": "markdown",
   "metadata": {},
   "source": [
    "#### Problem 2: Veritabanında ilk 12 satırı gösteriniz."
   ]
  },
  {
   "cell_type": "code",
   "execution_count": 2,
   "metadata": {
    "scrolled": false
   },
   "outputs": [
    {
     "name": "stdout",
     "output_type": "stream",
     "text": [
      "AcquisitionID  AcquisitionMonth  AcquisitionMonthDate  AcquisitionYear  Company     Business        Country     Value (USD)  Derived products       ParentCompany\r\n",
      "-------------  ----------------  --------------------  ---------------  ----------  --------------  ----------  -----------  ---------------------  -------------\r\n",
      "ACQ99          November          11                    2015             bebop       Cloud software  USA         380000000    Google Cloud Platform  Google       \r\n",
      "ACQ98          November          11                    2015             Fly Labs    Video editing   USA                      Google Photos          Google       \r\n",
      "ACQ97          December          8                     2015             Clearleap   Cloud-based vi  USA                                             IBM          \r\n",
      "ACQ96          December          18                    2015             Metanautix  Big Data Analy  USA                                             Microsoft    \r\n",
      "ACQ95          December          21                    2015             Talko, Inc  Mobile communi  USA                                             Microsoft    \r\n",
      "ACQ94          January           7                     2016             Emotient    Emotion recogn  USA                      Face ID, Animoji[100]  Apple        \r\n",
      "ACQ93          January           15                    2016             Iris Analy  Real time tran  GER                                             IBM          \r\n",
      "ACQ92          January           19                    2016             Teacher Ga  Education soft  FIN                                             Microsoft    \r\n",
      "ACQ915         July              30                    1987             Forethough  Computer softw  USA         14000000                            Microsoft    \r\n",
      "ACQ914         March             2                     1988             Network In  Software        USA                                             Apple        \r\n",
      "ACQ913         June              7                     1988             Orion Netw  Satellite comm  USA                                             Apple        \r\n",
      "ACQ912         June              27                    1988             Styleware   Computer softw  USA                      AppleWorks GS          Apple        \r\n"
     ]
    }
   ],
   "source": [
    "select * from acquisitions limit 12"
   ]
  },
  {
   "cell_type": "markdown",
   "metadata": {},
   "source": [
    "#### Problem 3: Google şirketinin yaptığı satın almaları gösteriniz."
   ]
  },
  {
   "cell_type": "code",
   "execution_count": 3,
   "metadata": {},
   "outputs": [
    {
     "name": "stdout",
     "output_type": "stream",
     "text": [
      "AcquisitionID  AcquisitionMonth  AcquisitionMonthDate  AcquisitionYear  Company     Business        Country     Value (USD)  Derived products       ParentCompany\r\n",
      "-------------  ----------------  --------------------  ---------------  ----------  --------------  ----------  -----------  ---------------------  -------------\r\n",
      "ACQ99          November          11                    2015             bebop       Cloud software  USA         380000000    Google Cloud Platform  Google       \r\n",
      "ACQ98          November          11                    2015             Fly Labs    Video editing   USA                      Google Photos          Google       \r\n",
      "ACQ831         February          12                    2001             Deja        Usenet          USA                      Google Groups          Google       \r\n",
      "ACQ82          February          12                    2016             BandPage    Platform for m  USA                      YouTube                Google       \r\n",
      "ACQ818         September         20                    2001             Outride     Web search eng  USA                      Google Personalized S  Google       \r\n",
      "ACQ81          February          18                    2016             Pie         Enterprise com  SGP                      Spaces (app)           Google       \r\n",
      "ACQ793         February                                2003             Pyra Labs   Weblog softwar  USA                      Blogger                Google       \r\n",
      "ACQ789         April                                   2003             Applied Se  Online adverti  USA         102000000    AdSense, AdWords       Google       \r\n",
      "ACQ788         April                                   2003             Neotonic S  Customer relat  USA                      Google Groups, Gmail   Google       \r\n",
      "ACQ779         September         30                    2003             Kaltix      Web search eng  USA                      iGoogle                Google       \r\n",
      "ACQ778         October                                 2003             Genius Lab  Blogging        USA                      Blogger                Google       \r\n",
      "ACQ777         October                                 2003             Sprinks     Online adverti  USA                      AdSense, AdWords       Google       \r\n",
      "ACQ766         May               10                    2004             Ignite Log  HTML editor     USA                      Google Sites           Google       \r\n",
      "ACQ763         July              13                    2004             Picasa      Image organize  USA                      Picasa, Blogger        Google       \r\n",
      "ACQ759         September                               2004             ZipDash     Traffic analys  USA                      Google Maps            Google       \r\n",
      "ACQ757         October                                 2004             Where2      Map analysis    AUS                      Google Maps            Google       \r\n",
      "ACQ753         October           27                    2004             Keyhole, I  Map analysis    USA                      Google Maps, Google E  Google       \r\n",
      "ACQ739         March             28                    2005             Urchin Sof  Web analytics   USA                      Google Analytics       Google       \r\n",
      "ACQ732         May               12                    2005             Dodgeball   Social network  USA                      Google Latitude        Google       \r\n",
      "ACQ73          May               2                     2016             Synergyse   Interactive tu  CAN                      Google Docs            Google       \r\n",
      "ACQ726         July                                    2005             Reqwireles  Mobile browser  CAN                      Google Mobile          Google       \r\n",
      "ACQ725         July              19                    2005             Akwan Info  Search engines  BRA                      Internet backbone      Google       \r\n",
      "ACQ720         August            17                    2005             Android In  Mobile operati  USA         50000000     Android                Google       \r\n",
      "ACQ712         November                                2005             Skia Inc.   Graphics libra  USA                      Skia                   Google       \r\n",
      "ACQ704         December          27                    2005             Phatbits    Widget engine   USA                      Google Desktop         Google       \r\n",
      "ACQ703         December          31                    2005             bruNET Gmb  Mobile softwar  GER                      Google Mobile          Google       \r\n",
      "ACQ702         December          31                    2005             allPAY Gmb  Mobile softwar  GER                      Google Mobile          Google       \r\n",
      "ACQ700         January           17                    2006             dMarc Broa  Advertising     USA         102000000    AdSense                Google       \r\n",
      "ACQ692         February          14                    2006             Measure Ma  Weblog softwar  USA                      Google Analytics       Google       \r\n",
      "ACQ688         March             9                     2006             Upstartle   Word processor  USA                      Google Docs            Google       \r\n",
      "ACQ687         March             14                    2006             @Last Soft  3D modeling so  USA                      Google Sketchup        Google       \r\n",
      "ACQ684         April             9                     2006             Orion       Web search eng  AUS                      Google Search          Google       \r\n",
      "ACQ68          June              22                    2016             Webpass     Internet servi  USA                      Google Fiber           Google       \r\n",
      "ACQ676         June              1                     2006             2Web Techn  Online spreads  USA                      Google Spreadsheet     Google       \r\n",
      "ACQ67          July              6                     2016             Moodstocks  Image recognit  FRA                      Google Photos          Google       \r\n",
      "ACQ668         August            15                    2006             Neven Visi  Computer visio  GER                      Picasa, Google Goggle  Google       \r\n",
      "ACQ661         October           9                     2006             YouTube     Video sharing   USA         1650000000   YouTube                Google       \r\n",
      "ACQ66          July              8                     2016             Anvato      Cloud-based vi  USA                      Google Cloud Platform  Google       \r\n",
      "ACQ654         October           31                    2006             JotSpot     Web applicatio  USA                      Google Sites           Google       \r\n",
      "ACQ65          July              12                    2016             Kifi        Link managemen  USA                      Spaces (app)           Google       \r\n",
      "ACQ649         December          18                    2006             Endoxon     Mapping         CHE         28000000     Google Maps            Google       \r\n",
      "ACQ645         February          16                    2007             Adscape     In-game advert  USA         23000000     AdSense                Google       \r\n",
      "ACQ642         March             16                    2007             Trendalyze  Statistical so  SWE                      Google Analytics       Google       \r\n",
      "ACQ64          July              27                    2016             LaunchKit   Mobile tool ma  USA                      Android                Google       \r\n",
      "ACQ639         April             13                    2007             DoubleClic  Online adverti  USA         3100000000   AdSense                Google       \r\n",
      "ACQ638         April             17                    2007             Tonic Syst  Presentation p  USA                      Google Docs            Google       \r\n",
      "ACQ637         April             19                    2007             Marratech   Videoconferenc  SWE         15000000     Google Talk, Google H  Google       \r\n",
      "ACQ631         May               11                    2007             GreenBorde  Computer secur  USA                      Google Chrome          Google       \r\n",
      "ACQ630         May               28                    2007             Crusix      Social network  USA                      YouTube                Google       \r\n",
      "ACQ629         June              1                     2007             Panoramio   Photo sharing   ESP                      Panoramio              Google       \r\n",
      "ACQ628         June              3                     2007             FeedBurner  Web feed        USA         100000000    FeedBurner             Google       \r\n",
      "ACQ626         June              5                     2007             PeakStream  Parallel proce  USA                      Android                Google       \r\n",
      "ACQ624         June              19                    2007             Zenter      Presentation p  USA                      Google Docs            Google       \r\n",
      "ACQ621         July              2                     2007             GrandCentr  Voice over IP   USA         45000000     Google Voice           Google       \r\n",
      "ACQ620         July              9                     2007             Postini     Communications  USA         625000000    Gmail                  Google       \r\n",
      "ACQ618         July              20                    2007             ImageAmeri  Aerial photogr  USA                      Google Maps            Google       \r\n",
      "ACQ61          August            8                     2016             Orbitera    Cloud software  USA         100000000    Google Cloud Platform  Google       \r\n",
      "ACQ607         September         27                    2007             Zingku      Social network  USA                      Google Mobile          Google       \r\n",
      "ACQ604         October           9                     2007             Jaiku       Microblogging   FIN                      Google Mobile          Google       \r\n",
      "ACQ58          September         8                     2016             Apigee      API management  USA         625000000    Google Cloud Platform  Google       \r\n",
      "ACQ57          September         15                    2016             Urban Engi  Location-based  USA                      Google Maps            Google       \r\n",
      "ACQ566         July              30                    2008             Omnisio     Online video    USA         15000000     YouTube                Google       \r\n",
      "ACQ564         September         12                    2008             TNC         Weblog softwar  KOR                      Blogger                Google       \r\n",
      "ACQ56          September         19                    2016             API.AI      Natural langua  USA                      Google Assistant       Google       \r\n",
      "ACQ550         August            5                     2009             On2         Video compress  USA         133000000    WebM, YouTube          Google       \r\n",
      "ACQ547         September         16                    2009             reCAPTCHA   Security        USA                      Google Books           Google       \r\n",
      "ACQ544         November          9                     2009             Gizmo5      Voice over IP   USA         30000000     Google Talk, Google H  Google       \r\n",
      "ACQ543         November          9                     2009             AdMob       Mobile adverti  USA         750000000    DoubleClick, Invite M  Google       \r\n",
      "ACQ542         November          23                    2009             Teracent    Online adverti  USA                      AdSense                Google       \r\n",
      "ACQ540         December          4                     2009             AppJet      Collaborative   USA                      Google Wave, Google D  Google       \r\n",
      "ACQ531         February          12                    2010             Aardvark    Social search   USA         50000000     Aardvark               Google       \r\n",
      "ACQ529         February          17                    2010             reMail      Email search    USA                      Gmail                  Google       \r\n",
      "ACQ527         March             1                     2010             Picnik      Photo editing   USA                      Picasa                 Google       \r\n",
      "ACQ525         March             5                     2010             DocVerse    Microsoft Offi  USA         25000000     Google Docs            Google       \r\n",
      "ACQ523         April             2                     2010             Episodic    Online video p  USA                      YouTube                Google       \r\n",
      "ACQ521         April             12                    2010             PlinkArt    Visual search   UK                       Google Goggles         Google       \r\n",
      "ACQ520         April             20                    2010             Agnilux     Server CPUs     USA                      Android                Google       \r\n",
      "ACQ518         April             27                    2010             LabPixies   Gadgets         ISR                      iGoogle, Android       Google       \r\n",
      "ACQ515         April             30                    2010             BumpTop     Desktop enviro  CAN         30000000     Android                Google       \r\n",
      "ACQ511         May               18                    2010             Global IP   Video and audi  USA         68200000     WebRTC                 Google       \r\n",
      "ACQ51          October           11                    2016             FameBit     Branded conten                           YouTube                Google       \r\n",
      "ACQ509         May               20                    2010             Simplify M  Music streamin  USA                      Android                Google       \r\n",
      "ACQ508         May               21                    2010             Ruba.com    Travel          USA                      iGoogle                Google       \r\n",
      "ACQ504         June              3                     2010             Invite Med  Advertising     USA         81000000     DoubleClick            Google       \r\n",
      "ACQ50          October           24                    2016             Eyefluence  Eye tracking,                            Google VR              Google       \r\n",
      "ACQ498         July              16                    2010             Metaweb     Semantic searc  USA                      Google Search          Google       \r\n",
      "ACQ496         August                                  2010             Zetawire    Mobile payment  CAN                      Android, Google Walle  Google       \r\n",
      "ACQ495         August            4                     2010             Instantiat  Java/Eclipse/A  USA                      Google Web Toolkit     Google       \r\n",
      "ACQ494         August            5                     2010             Slide.com   Social gaming   USA         228000000    Google+, Orkut, Googl  Google       \r\n",
      "ACQ493         August            10                    2010             Jambool     Social Gold pa  USA         70000000     Google+, Orkut         Google       \r\n",
      "ACQ490         August            15                    2010             Like.com    Visual search   USA         100000000    Google Shopping        Google       \r\n",
      "ACQ487         August            30                    2010             SocialDeck  Social gaming   CAN                      Google, Google+        Google       \r\n",
      "ACQ486         August            30                    2010             Angstro     Social network  USA                      Google, Google Alert   Google       \r\n",
      "ACQ485         September         13                    2010             Quiksee     Online video    ISR         10000000     Google Maps            Google       \r\n",
      "ACQ48          November          5                     2016             LeapDroid   Android Emulat  USA                      Android                Google       \r\n",
      "ACQ479         September         28                    2010             Plannr      Schedule manag  USA                      Google+                Google       \r\n",
      "ACQ478         October           1                     2010             BlindType   Touch typing    GRE                      Android                Google       \r\n",
      "ACQ470         December          3                     2010             Widevine T  DRM             USA                      Google TV              Google       \r\n",
      "ACQ469         December          3                     2010             Phonetic A  Speech synthes  UK                       Google Voice, Google   Google       \r\n",
      "ACQ467         January           13                    2011             eBook Tech  E-book          USA                      Google Books           Google       \r\n",
      "ACQ465         January           25                    2011             SayNow      Voice recognit  USA                      Google Voice           Google       \r\n",
      "ACQ463         March             1                     2011             Zynamics    Security        GER                      Project Zero (Google)  Google       \r\n",
      "ACQ461         March             7                     2011             Next New N  Online video    USA                      YouTube                Google       \r\n",
      "ACQ460         March             7                     2011             BeatThatQu  Price comparis  UK          65000000     Google Shopping        Google       \r\n",
      "ACQ459         March             16                    2011             Green Parr  Digital video   IRL                      YouTube                Google       \r\n",
      "ACQ455         April             8                     2011             PushLife    Service provid  CAN         25000000     Google Play            Google       \r\n",
      "ACQ454         April             12                    2011             ITA Softwa  Travel technol  USA         676000000    Google Flights         Google       \r\n",
      "ACQ452         April             26                    2011             TalkBin     Mobile softwar  USA                      Android                Google       \r\n",
      "ACQ45          November          21                    2016             Qwiklabs    Cloud based ha                           Google Cloud Platform  Google       \r\n",
      "ACQ449         May               23                    2011             Sparkbuy    Product search  USA                      Google Shopping        Google       \r\n",
      "ACQ446         June              3                     2011             PostRank    Social media a  CAN                      Google+ Google Analyt  Google       \r\n",
      "ACQ444         June              9                     2011             Admeld      Online adverti  USA         400000000    DoubleClick, Invite M  Google       \r\n",
      "ACQ441         June              18                    2011             SageTV      Media center    USA                      Google TV, Google Fib  Google       \r\n",
      "ACQ439         July              8                     2011             Punchd      Loyalty progra  USA                      Google Offers          Google       \r\n",
      "ACQ438         July              21                    2011             Fridge      Social groups   USA                      Google+                Google       \r\n",
      "ACQ437         July              23                    2011             PittPatt    Facial recogni  USA                      Android                Google       \r\n",
      "ACQ436         August            1                     2011             Dealmap     One deal a day  USA                      Google Offers          Google       \r\n",
      "ACQ432         August            15                    2011             Motorola M  Mobile device   USA         12500000000  Android, Google TV, A  Google       \r\n",
      "ACQ429         September         7                     2011             Zave Netwo  Digital coupon  USA                      Google Offers          Google       \r\n",
      "ACQ428         September         8                     2011             Zagat       Restaurant rev  USA         151000000    Google Places, Google  Google       \r\n",
      "ACQ427         September         19                    2011             DailyDeal   One deal a day  GER         114000000    Google Offers          Google       \r\n",
      "ACQ423         October           11                    2011             SocialGrap  Social media a  CAN                      Google+ Google Analyt  Google       \r\n",
      "ACQ419         November          10                    2011             Apture      Instantaneous   USA                      Google Search          Google       \r\n",
      "ACQ418         November          14                    2011             Katango     Social circle   USA                      Google+                Google       \r\n",
      "ACQ412         December          9                     2011             RightsFlow  Music rights m  USA                      YouTube                Google       \r\n",
      "ACQ411         December          13                    2011             Clever Sen  Local recommen  USA                      Google Maps            Google       \r\n",
      "ACQ41          December          13                    2016             Cronologic  Smartwatches    USA                      Android Wear           Google       \r\n",
      "ACQ408                                                 2012             WIMM Labs   Android-powere  USA                      Android Wear           Google       \r\n",
      "ACQ400         March             16                    2012             Milk, Inc   Software compa  USA                      Google+                Google       \r\n",
      "ACQ40          January           5                     2017             Limes Audi  Voice communic  SWE                      Google Duo, Google Ha  Google       \r\n",
      "ACQ399         April             2                     2012             TxVia       Online payment  USA                      Google Wallet, Google  Google       \r\n",
      "ACQ387         June              4                     2012             Meebo       Social network  USA         100000000    Google+                Google       \r\n",
      "ACQ385         June              5                     2012             Quickoffic  Mobile office   USA                      Google Docs            Google       \r\n",
      "ACQ380         July              20                    2012             Sparrow     Mobile apps     FRA         25000000     Gmail                  Google       \r\n",
      "ACQ377         August            1                     2012             Wildfire I  Social media m  USA         450000000    Google, Google+        Google       \r\n",
      "ACQ372         September         7                     2012             VirusTotal  Security        ESP                                             Google       \r\n",
      "ACQ371         September         17                    2012             Nik Softwa  Photography     USA                      Google, Android        Google       \r\n",
      "ACQ37          January           19                    2017             Fabric      Crash analytic  USA                      Firebase               Google       \r\n",
      "ACQ368         October           1                     2012             Viewdle     Facial recogni  UKR         45000000     Android                Google       \r\n",
      "ACQ360         November          28                    2012             Incentive   Digital coupon  USA                      Google Offers          Google       \r\n",
      "ACQ359         November          30                    2012             BufferBox   Package delive  CAN         17000000     Google Shopping, Andr  Google       \r\n",
      "ACQ35          March             8                     2017             Kaggle      Data science    USA                      Google Cloud Platform  Google       \r\n",
      "ACQ349         February          6                     2013             Channel In  Product ecomme  USA         125000000    Google Shopping        Google       \r\n",
      "ACQ343         March             12                    2013             DNNresearc  Deep Neural Ne  CAN                      Google, X              Google       \r\n",
      "ACQ341         March             15                    2013             Talaria Te  Cloud computin  USA                      Google Cloud           Google       \r\n",
      "ACQ34          March             9                     2017             AppBridge   Productivity s  USA                      Google Docs            Google       \r\n",
      "ACQ336         April             12                    2013             Behavio     Social Predict  USA                      Google Now             Google       \r\n",
      "ACQ334         April             23                    2013             Wavii       Natural Langua  USA         30000000     Google Knowledge Grap  Google       \r\n",
      "ACQ324         May               23                    2013             Makani Pow  Airborne wind   USA                      X                      Google       \r\n",
      "ACQ320         June              11                    2013             Waze        GPS navigation  ISR         966000000    Google Maps , Waze     Google       \r\n",
      "ACQ295         September         16                    2013             Bump        Mobile softwar  USA                      Google Photos          Google       \r\n",
      "ACQ291         October           2                     2013             Flutter     Gesture recogn  USA         40000000     Google, Android, X     Google       \r\n",
      "ACQ29          May               10                    2017             Owlchemy L  Virtual realit  USA                      Google VR              Google       \r\n",
      "ACQ285         October           22                    2013             FlexyCore   DroidBooster A  FRA         23000000     Android                Google       \r\n",
      "ACQ279         December          2                     2013             SCHAFT, In  Robotics, huma  JPN                      X                      Google       \r\n",
      "ACQ276         December          3                     2013             Industrial  Robotic arms,   USA                      X                      Google       \r\n",
      "ACQ274         December          4                     2013             Redwood Ro  Robotic arms    USA                      X                      Google       \r\n",
      "ACQ273         December          5                     2013             Meka Robot  Robots          USA                      X                      Google       \r\n",
      "ACQ272         December          6                     2013             Holomni     Robotic wheels  USA                      X                      Google       \r\n",
      "ACQ270         December          7                     2013             Bot & Doll  Robotic camera  USA                      X                      Google       \r\n",
      "ACQ269         December          8                     2013             Autofuss    Ads and Design  USA                      X                      Google       \r\n",
      "ACQ261         January           4                     2014             Bitspin     Timely App for  CHE                      Android                Google       \r\n",
      "ACQ256         January           13                    2014             Nest Labs   Home automatio  USA         3200000000   Nest Labs              Google       \r\n",
      "ACQ254         January           15                    2014             Impermium   Internet secur  USA                      Project Zero (Google)  Google       \r\n",
      "ACQ251         January           26                    2014             DeepMind T  Artificial int  UK          625000000    Google DeepMind        Google       \r\n",
      "ACQ246         February          16                    2014             SlickLogin  Internet Secur  ISR                      Project Zero (Google)  Google       \r\n",
      "ACQ244         February          21                    2014             spider.io   Anti-click fra  UK                       DoubleClick, Adsense   Google       \r\n",
      "ACQ240         March             12                    2014             GreenThrot  Gadgets         USA                      Android                Google       \r\n",
      "ACQ233         April             14                    2014             Titan Aero  High-altitude   USA                      Project Loon           Google       \r\n",
      "ACQ23          July              12                    2017             Halli Labs  Artificial int  IND                                             Google       \r\n",
      "ACQ228         May               2                     2014             Rangespan   E-commerce      UK                       Google Shopping        Google       \r\n",
      "ACQ226         May               6                     2014             Adometry    Online adverti  USA                      Google Analytics AdSe  Google       \r\n",
      "ACQ225         May               7                     2014             MyEnergy    Online energy   USA                      Nest Labs              Google       \r\n",
      "ACQ224         May               7                     2014             Stackdrive  Cloud computin  USA                      Google Cloud Platform  Google       \r\n",
      "ACQ223         May               7                     2014             Appetas     Restaurant web  USA                      Google My Business     Google       \r\n",
      "ACQ221         May               16                    2014             Quest Visu  Augmented real  USA                      Google Translate       Google       \r\n",
      "ACQ220         May               19                    2014             Divide      Mobile device   USA                      Android for Work       Google       \r\n",
      "ACQ216         June              10                    2014             Skybox Ima  Satellite       USA         500000000    Google Maps, Project   Google       \r\n",
      "ACQ214         June              19                    2014             Alpental T  Wireless        USA                      Google                 Google       \r\n",
      "ACQ213         June              19                    2014             mDialog     Online adverti  CAN                      DoubleClick            Google       \r\n",
      "ACQ211         June              20                    2014             Dropcam     Home monitorin  USA         555000000    Nest Labs              Google       \r\n",
      "ACQ210         June              25                    2014             Appurify    Automated appl  USA                      Android                Google       \r\n",
      "ACQ207         July              1                     2014             Songza      Music streamin  USA                      Google Play, Android   Google       \r\n",
      "ACQ201         July              23                    2014             drawElemen  Graphics compa  FIN                      Android                Google       \r\n",
      "ACQ20          August            16                    2017             AIMatter    Computer visio  BLR                      YouTube                Google       \r\n",
      "ACQ2           March             27                    2018             Tenor       GIF image sear  USA                      Google Images          Google       \r\n",
      "ACQ195         August            6                     2014             Director    Mobile video    USA                      YouTube, Android       Google       \r\n",
      "ACQ194         August            6                     2014             Emu         IM client       USA                      Google Hangouts, Goog  Google       \r\n",
      "ACQ19          September         21                    2017             HTC (porti  Talent and int  TWN         1100000000   Google Pixel           Google       \r\n",
      "ACQ189         August            17                    2014             Jetpac      Artificial int  USA                      Picasa                 Google       \r\n",
      "ACQ188         August            23                    2014             Gecko Desi  Mechanical des  USA                      X                      Google       \r\n",
      "ACQ187         August            26                    2014             Zync Rende  Cloud-based vi  USA                      Google Cloud Platform  Google       \r\n",
      "ACQ184         September         10                    2014             Lift Labs   Liftware        USA                      Verily                 Google       \r\n",
      "ACQ183         September         11                    2014             Polar       Social polling  USA                      Google+                Google       \r\n",
      "ACQ179         October           21                    2014             Firebase    Data synchroni  USA                      Google Cloud Platform  Google       \r\n",
      "ACQ178         October           23                    2014             Dark Blue   Artificial int  UK                       Google DeepMind        Google       \r\n",
      "ACQ177         October           24                    2014             Revolv      Home automatio  USA                      Nest Labs              Google       \r\n",
      "ACQ172         November          19                    2014             RelativeWa  Mobile softwar  USA                      Android                Google       \r\n",
      "ACQ17          September         26                    2017             Bitium      Single sign-on  USA                      Google Cloud Platform  Google       \r\n",
      "ACQ167         December          17                    2014             Vidmaker    Video editing   USA                      YouTube                Google       \r\n",
      "ACQ158         February          4                     2015             Launchpad   Child-friendly  USA                      YouTube for Kids       Google       \r\n",
      "ACQ157         February          8                     2015             Odysee      Multimedia sha  USA                      Google+                Google       \r\n",
      "ACQ154         February          23                    2015             Softcard    Mobile payment  USA                      Android Pay            Google       \r\n",
      "ACQ153         February          24                    2015             Red Hot La  App advertisin  USA                      Google Play            Google       \r\n",
      "ACQ140         April             16                    2015             Skillman &  Virtual realit  USA                      Tilt Brush             Google       \r\n",
      "ACQ139         April             16                    2015             Thrive Aud  Surround sound  IRL                      Google Cardboard       Google       \r\n",
      "ACQ136         May               4                     2015             Timeful     Mobile softwar  USA                      Google Inbox, Google   Google       \r\n",
      "ACQ134         May               28                    2015             Pulse.io    Mobile app opt  USA                      Android                Google       \r\n",
      "ACQ129         June              18                    2015             Agawi       Mobile applica  USA                      Android, Google Play   Google       \r\n",
      "ACQ125         July              21                    2015             Pixate      Mobile softwar  USA                      Android                Google       \r\n",
      "ACQ114         September         21                    2015             Oyster      E-book subscri  USA                      Google Play Books      Google       \r\n",
      "ACQ111         September         30                    2015             Jibe Mobil  Rich Communica  USA                      Android                Google       \r\n",
      "ACQ11          October           9                     2017             Relay Medi  AMP converter   USA                      Accelerated Mobile Pa  Google       \r\n",
      "ACQ108         October           17                    2015             Digisfera   360-degree pho  POR                      Street View            Google       \r\n",
      "ACQ10          October           11                    2017             60db        Podcasts        USA                      Google Play Music      Google       \r\n"
     ]
    }
   ],
   "source": [
    "select * from acquisitions where ParentCompany=\"Google\";"
   ]
  },
  {
   "cell_type": "markdown",
   "metadata": {},
   "source": [
    "#### Problem 4: Google ve Microsoft şirketlerinin bulut yazılım alanında yaptığı satın almaları gösteriniz."
   ]
  },
  {
   "cell_type": "code",
   "execution_count": 4,
   "metadata": {},
   "outputs": [
    {
     "name": "stdout",
     "output_type": "stream",
     "text": [
      "AcquisitionID  AcquisitionMonth  AcquisitionMonthDate  AcquisitionYear  Company     Business        Country     Value (USD)  Derived products       ParentCompany\r\n",
      "-------------  ----------------  --------------------  ---------------  ----------  --------------  ----------  -----------  ---------------------  -------------\r\n",
      "ACQ99          November          11                    2015             bebop       Cloud software  USA         380000000    Google Cloud Platform  Google       \r\n",
      "ACQ61          August            8                     2016             Orbitera    Cloud software  USA         100000000    Google Cloud Platform  Google       \r\n"
     ]
    }
   ],
   "source": [
    "select * from acquisitions where (ParentCompany=\"Microsoft\" or ParentCompany=\"Google\")\n",
    "and Business=\"Cloud software\";"
   ]
  },
  {
   "cell_type": "markdown",
   "metadata": {},
   "source": [
    "#### Problem 5: Genel olarak \"yazılım\" alanında yapılan tüm satın almaları gösteriniz."
   ]
  },
  {
   "cell_type": "code",
   "execution_count": 5,
   "metadata": {},
   "outputs": [
    {
     "name": "stdout",
     "output_type": "stream",
     "text": [
      "AcquisitionID  AcquisitionMonth  AcquisitionMonthDate  AcquisitionYear  Company     Business        Country     Value (USD)  Derived products       ParentCompany\r\n",
      "-------------  ----------------  --------------------  ---------------  ----------  --------------  ----------  -----------  ---------------------  -------------\r\n",
      "ACQ99          November          11                    2015             bebop       Cloud software  USA         380000000    Google Cloud Platform  Google       \r\n",
      "ACQ92          January           19                    2016             Teacher Ga  Education soft  FIN                                             Microsoft    \r\n",
      "ACQ915         July              30                    1987             Forethough  Computer softw  USA         14000000                            Microsoft    \r\n",
      "ACQ914         March             2                     1988             Network In  Software        USA                                             Apple        \r\n",
      "ACQ912         June              27                    1988             Styleware   Computer softw  USA                      AppleWorks GS          Apple        \r\n",
      "ACQ911         July              11                    1988             Claris      Computer softw  USA                      FileMaker, iWork, iLi  Apple        \r\n",
      "ACQ910         January           3                     1989             Coral Soft  Computer softw  USA                      Macintosh Common Lisp  Apple        \r\n",
      "ACQ909         March             31                    1991             Consumers   Software        CAN                                             Microsoft    \r\n",
      "ACQ908         June              29                    1992             Fox Softwa  PC database so  USA                                             Microsoft    \r\n",
      "ACQ907         February          28                    1994             Softimage   Wholesale 3-D   CAN                                             Microsoft    \r\n",
      "ACQ906         September         27                    1994             Altamira S  Software        USA                                             Microsoft    \r\n",
      "ACQ905         November          1                     1994             NextBase    Software        USA                                             Microsoft    \r\n",
      "ACQ904         November          15                    1994             One Tree S  Software        USA                                             Microsoft    \r\n",
      "ACQ901         October           17                    1995             The Blue R  Software        USA                                             Microsoft    \r\n",
      "ACQ900         November          6                     1995             Netwise     Computer softw  USA                                             Microsoft    \r\n",
      "ACQ898         January           16                    1996             Vermeer Te  Software        USA         133000000                           Microsoft    \r\n",
      "ACQ897         March             6                     1996             VGA-Animat  Software        GER                                             Microsoft    \r\n",
      "ACQ896         March             12                    1996             Colusa Sof  Software        USA                                             Microsoft    \r\n",
      "ACQ894         April             23                    1996             Aspect Sof  Computer softw  USA         14150000                            Microsoft    \r\n",
      "ACQ893         June              11                    1996             eShop       Software        USA                                             Microsoft    \r\n",
      "ACQ891         November          1                     1996             Panorama S  Software        CAN                                             Microsoft    \r\n",
      "ACQ890         February          3                     1997             NetCarta    Internet softw  USA         20000000                            Microsoft    \r\n",
      "ACQ889         February          7                     1997             NeXT        Unix-like hard  USA         404000000    Mac OS X, iOS, macOS,  Apple        \r\n",
      "ACQ888         March             3                     1997             Interse     Internet softw  USA                                             Microsoft    \r\n",
      "ACQ884         June              30                    1997             LinkAge So  Internet softw  CAN                                             Microsoft    \r\n",
      "ACQ883         August            5                     1997             VXtreme     Internet video  USA                                             Microsoft    \r\n",
      "ACQ879         December          31                    1997             Hotmail     Internet softw  USA         500000000                           Microsoft    \r\n",
      "ACQ878         February          23                    1998             Flash Comm  Enterprise ins  USA                                             Microsoft    \r\n",
      "ACQ876         April             15                    1998             Firefly     Relationship m  USA         40000000                            Microsoft    \r\n",
      "ACQ875         April             28                    1998             MESA Group  Data sharing s  USA                                             Microsoft    \r\n",
      "ACQ872         July              17                    1998             Webcal      Calendaring so  USA         21000000     Yahoo Calendar         Yahoo        \r\n",
      "ACQ871         August            25                    1998             Valence Re  Internet softw  USA                                             Microsoft    \r\n",
      "ACQ867         January           8                     1999             Xemplar Ed  Software        UK          4926000                             Apple        \r\n",
      "ACQ866         January           11                    1999             FASA Inter  Computer game   USA                                             Microsoft    \r\n",
      "ACQ864         March             26                    1999             Numinous T  Software        USA                                             Microsoft    \r\n",
      "ACQ862         April             27                    1999             Interactiv  Web music soft  USA                                             Microsoft    \r\n",
      "ACQ857         June              7                     1999             ShadowFact  Wholesale comp  USA                                             Microsoft    \r\n",
      "ACQ856         June              15                    1999             Omnibrowse  Internet softw  USA                                             Microsoft    \r\n",
      "ACQ855         June              28                    1999             Intrinsa    Defect detecti  USA         58900000                            Microsoft    \r\n",
      "ACQ854         July              1                     1999             Sendit      Application so  SWE         125420000                           Microsoft    \r\n",
      "ACQ853         July              7                     1999             Zoomit      Encryption sof  CAN                                             Microsoft    \r\n",
      "ACQ852         July              21                    1999             STNC        Community soft  UK                                              Microsoft    \r\n",
      "ACQ850         October           29                    1999             Entropic    Software        USA                                             Microsoft    \r\n",
      "ACQ848         January           7                     2000             Visio Corp  Wholesale draw  USA         1375000000                          Microsoft    \r\n",
      "ACQ847         January           7                     2000             NetSelecto  Internet softw  USA                                             Apple        \r\n",
      "ACQ842         April             11                    2000             Astarte-DV  Software        GER                      DVD Studio Pro         Apple        \r\n",
      "ACQ840         June              19                    2000             Bungie Sof  Computer softw  USA                                             Microsoft    \r\n",
      "ACQ838         July              12                    2000             NetGames    Software        USA                                             Microsoft    \r\n",
      "ACQ833                                                 2000             SoundJam M  Software        USA                      iTunes                 Apple        \r\n",
      "ACQ832                                                 2001             Bluefish L  Productivity s  USA                      iWork                  Apple        \r\n",
      "ACQ828         April             5                     2001             Great Plai  Business manag  USA         939884000                           Microsoft    \r\n",
      "ACQ827         May               2                     2001             Intellisol  Software        CAN                                             Microsoft    \r\n",
      "ACQ825         May               31                    2001             NCompass L  Internet softw  CAN         36000000                            Microsoft    \r\n",
      "ACQ823         June              21                    2001             Maximal In  Software        ISR         20000000                            Microsoft    \r\n",
      "ACQ820         July              2                     2001             Informix C  Database Softw  USA         1000000000                          IBM          \r\n",
      "ACQ819         July              9                     2001             Spruce Tec  Graphics softw  USA         14900000     DVD Studio Pro         Apple        \r\n",
      "ACQ816         January           14                    2002             CrossWorld  Software        USA         129000000                           IBM          \r\n",
      "ACQ815         February          1                     2002             Nothing Re  Special effect  USA         15000000     Shake                  Apple        \r\n",
      "ACQ812         April             4                     2002             Zayante     FireWire chips  USA         13000000     FireWire               Apple        \r\n",
      "ACQ811         May               22                    2002             Sales Mana  Software        USA                                             Microsoft    \r\n",
      "ACQ810         June              11                    2002             Silicon Gr  Digital effect  USA         20000000     Motion                 Apple        \r\n",
      "ACQ808         June              21                    2002             Prismo Gra  Special-effect  USA         20000000     LiveType (Final Cut S  Apple        \r\n",
      "ACQ806         July              1                     2002             Emagic      Music producti  GER         30000000     Logic Pro, GarageBand  Apple        \r\n",
      "ACQ805         July              12                    2002             Navision    Software progr  DEN         1330000000                          Microsoft    \r\n",
      "ACQ802         September         10                    2002             XDegrees    Security softw  USA                                             Microsoft    \r\n",
      "ACQ800         September         24                    2002             Rare        Software and v  UK          375000000                           Microsoft    \r\n",
      "ACQ798         October           6                     2002             Access360   Software        USA                                             IBM          \r\n",
      "ACQ793         February                                2003             Pyra Labs   Weblog softwar  USA                      Blogger                Google       \r\n",
      "ACQ792         Feburary          21                    2003             Rational S  Software Devel  USA         2100000000                          IBM          \r\n",
      "ACQ791         February          25                    2003             Connectix   Software        USA                                             Microsoft    \r\n",
      "ACQ790         March             3                     2003             DCG         Internet softw  AUS                                             Microsoft    \r\n",
      "ACQ786         May               14                    2003             Think Dyna  Software        CAN                                             IBM          \r\n",
      "ACQ782         July              1                     2003             Informatio  Software        USA                                             IBM          \r\n",
      "ACQ781         July              15                    2003             Aptrix      Software        AUS                                             IBM          \r\n",
      "ACQ780         August            29                    2003             3DO Co-Hig  Software        USA         450000                              Microsoft    \r\n",
      "ACQ774         December          17                    2003             Green Past  Content manage  USA                                             IBM          \r\n",
      "ACQ760         July              29                    2004             Cyanea Sys  Application ma  USA                                             IBM          \r\n",
      "ACQ752         November          19                    2004             Systemcorp  Project Portfo  CAN                                             IBM          \r\n",
      "ACQ744         March                                   2005             Schemasoft  Software        CAN                      iWork                  Apple        \r\n",
      "ACQ743         March             2                     2005             en'tegrate  Software        USA                                             Microsoft    \r\n",
      "ACQ737         April             9                     2005             Groove Net  Community soft  USA                                             Microsoft    \r\n",
      "ACQ730         June              14                    2005             blo.gs      Weblog softwar  USA                      Yahoo! 360°            Yahoo        \r\n",
      "ACQ728         June              21                    2005             Sybari Sof  Software        USA                                             Microsoft    \r\n",
      "ACQ716         September         19                    2005             Alacris     Certificate ma  USA                                             Microsoft    \r\n",
      "ACQ715         October           4                     2005             Upcoming.o  Calendaring so  USA                      Yahoo! Local           Yahoo        \r\n",
      "ACQ711         November          1                     2005             iPhrase Sy  Information ma  USA                                             IBM          \r\n",
      "ACQ710         November          3                     2005             media-stre  Software        SWI                                             Microsoft    \r\n",
      "ACQ703         December          31                    2005             bruNET Gmb  Mobile softwar  GER                      Google Mobile          Google       \r\n",
      "ACQ702         December          31                    2005             allPAY Gmb  Mobile softwar  GER                      Google Mobile          Google       \r\n",
      "ACQ698         January           19                    2006             UMT-Softwa  Software        USA                                             Microsoft    \r\n",
      "ACQ696         January           27                    2006             ARGUS Semi  Semiconductor   USA                                             IBM          \r\n",
      "ACQ694         February          13                    2006             Seadragon   Software        USA                                             Microsoft    \r\n",
      "ACQ692         February          14                    2006             Measure Ma  Weblog softwar  USA                      Google Analytics       Google       \r\n",
      "ACQ690         March             7                     2006             Onfolio     Internet softw  USA                                             Microsoft    \r\n",
      "ACQ689         March             7                     2006             Apptimum    Software        USA                                             Microsoft    \r\n",
      "ACQ687         March             14                    2006             @Last Soft  3D modeling so  USA                      Google Sketchup        Google       \r\n",
      "ACQ682         April             26                    2006             AssetMetri  Enterprise sof  CAN                                             Microsoft    \r\n",
      "ACQ681         May               2                     2006             BuildForge  Software Devel  USA                                             IBM          \r\n",
      "ACQ680         May               4                     2006             Vexcel      Mapping softwa  USA                                             Microsoft    \r\n",
      "ACQ675         June              6                     2006             ProClarity  Analysis softw  USA                                             Microsoft    \r\n",
      "ACQ673         June              27                    2006             Rembo Tech  Installation S  SUI                                             IBM          \r\n",
      "ACQ672         July              17                    2006             Softricity  application vi  USA                                             Microsoft    \r\n",
      "ACQ671         July              18                    2006             Winternals  Software        USA                                             Microsoft    \r\n",
      "ACQ669         August            1                     2006             Webify Sol  Service Orient  USA                                             IBM          \r\n",
      "ACQ660         October           12                    2006             Colloquis   Natural langua  USA                                             Microsoft    \r\n",
      "ACQ659         October           12                    2006             FileNet Co  Content manage  USA         1600000000                          IBM          \r\n",
      "ACQ658         October           16                    2006             Silicon Co  Software        USA                      Color (Final Cut Stud  Apple        \r\n",
      "ACQ652         November          17                    2006             Kenet Work  Mobile softwar  EU          25000000     Yahoo! Mobile          Yahoo        \r\n",
      "ACQ650         December          4                     2006             Proximity   Software        AUS                      Final Cut Server       Apple        \r\n",
      "ACQ642         March             16                    2007             Trendalyze  Statistical so  SWE                      Google Analytics       Google       \r\n",
      "ACQ640         March             26                    2007             devBiz Bus  Software tools  USA                                             Microsoft    \r\n",
      "ACQ634         May               3                     2007             Tellme Net  Mobile phone s  USA                                             Microsoft    \r\n",
      "ACQ632         May               9                     2007             SoftArtisa  Business Intel  USA                                             Microsoft    \r\n",
      "ACQ617         July              20                    2007             Watchfire   Security Softw  USA                                             IBM          \r\n",
      "ACQ61          August            8                     2016             Orbitera    Cloud software  USA         100000000    Google Cloud Platform  Google       \r\n",
      "ACQ608         September         17                    2007             Zimbra      Collaborative   USA         350000000    Zimbra                 Yahoo        \r\n",
      "ACQ605         October           5                     2007             Parlano     Enterprise mes  USA                                             Microsoft    \r\n",
      "ACQ596         January           22                    2008             Calista Te  Software        USA                                             Microsoft    \r\n",
      "ACQ595         January           29                    2008             Solid Info  Database Softw  USA                                             IBM          \r\n",
      "ACQ591         February          7                     2008             Caligari C  Software        USA                                             Microsoft    \r\n",
      "ACQ589         Feburary          15                    2008             Net Integr  Business Serve  CAN                                             IBM          \r\n",
      "ACQ588         February          27                    2008             YaData      Software        ISR                                             Microsoft    \r\n",
      "ACQ586         March             14                    2008             Rapt        Advertising yi  USA                                             Microsoft    \r\n",
      "ACQ585         March             19                    2008             Komoku      Rootkit securi  USA         5000000                             Microsoft    \r\n",
      "ACQ584         March             31                    2008             90 Degree   Business intel  CAN                                             Microsoft    \r\n",
      "ACQ583         April             3                     2008             Telelogic   Enterprise sof  SWE         845000000                           IBM          \r\n",
      "ACQ582         April             14                    2008             Farecast    Online search   USA         75000000                            Microsoft    \r\n",
      "ACQ581         April             15                    2008             Danger      Mobile Interne  USA         500000000                           Microsoft    \r\n",
      "ACQ579         April             21                    2008             FilesX      Application Re  USA                                             IBM          \r\n",
      "ACQ574         May               26                    2008             Kidaro      Software        USA                                             Microsoft    \r\n",
      "ACQ573         June              4                     2008             Quadreon    Software        BEL                                             Microsoft    \r\n",
      "ACQ572         June              18                    2008             Navic Netw  Management sof  USA                                             Microsoft    \r\n",
      "ACQ564         September         12                    2008             TNC         Weblog softwar  KOR                      Blogger                Google       \r\n",
      "ACQ563         September         16                    2008             DATAllegro  Data software   USA                                             Microsoft    \r\n",
      "ACQ561         November          18                    2008             Transitive  Virtualization  USA                                             IBM          \r\n",
      "ACQ560         November          24                    2008             Values of   Social softwar                                                  Twitter      \r\n",
      "ACQ557         May               5                     2009             Exeros Ass  Data Discovery  USA                                             IBM          \r\n",
      "ACQ551         July              28                    2009             SPSS Inc.   Statistical an  USA         1200000000                          IBM          \r\n",
      "ACQ546         September         22                    2009             Interactiv  Software        USA                                             Microsoft    \r\n",
      "ACQ538         December          10                    2009             Sentillion  Identity and A  USA                                             Microsoft    \r\n",
      "ACQ537         December          10                    2009             Opalis Sof  Software        CAN                                             Microsoft    \r\n",
      "ACQ532         February          3                     2010             Initiate S  Data integrity  USA                                             IBM          \r\n",
      "ACQ530         February          16                    2010             Intelliden  Network Automa  USA                                             IBM          \r\n",
      "ACQ517         April             27                    2010             Siri        Voice control   USA                      Siri                   Apple        \r\n",
      "ACQ507         May               24                    2010             Sterling C  Business softw  USA         1400000000                          IBM          \r\n",
      "ACQ501         July              1                     2010             BigFix, In  Security and I  USA                                             IBM          \r\n",
      "ACQ491         August            13                    2010             Unica Corp  Marketing plan  USA         480000000                           IBM          \r\n",
      "ACQ452         April             26                    2011             TalkBin     Mobile softwar  USA                      Android                Google       \r\n",
      "ACQ445         June              7                     2011             Prodiance   Software        USA                                             Microsoft    \r\n",
      "ACQ442         June              9                     2011             Sofa        Software desig  NED                                             Facebook     \r\n",
      "ACQ422         October           12                    2011             Platform C  Cluster and Gr  CAN                                             IBM          \r\n",
      "ACQ407         January           4                     2012             Green Hat   Cloud based so  USA                                             IBM          \r\n",
      "ACQ404         January           31                    2012             Worklight   Software Devel  ISR         70000000                            IBM          \r\n",
      "ACQ400         March             16                    2012             Milk, Inc   Software compa  USA                      Google+                Google       \r\n",
      "ACQ396         April             13                    2012             Varicent    Compensation a  CAN                                             IBM          \r\n",
      "ACQ394         April             25                    2012             Vivisimo    Enterprise Sea  USA                                             IBM          \r\n",
      "ACQ393         May               2                     2012             Tealeaf Te  Customer Exper  USA                                             IBM          \r\n",
      "ACQ370         September         24                    2012             Butterfly   Data Analysis   UK                                              IBM          \r\n",
      "ACQ364         October           16                    2012             Cabana      Mobile app bui                                                  Twitter      \r\n",
      "ACQ345         March                                   2013             osmeta      Mobile softwar  USA                                             Facebook     \r\n",
      "ACQ335         April             22                    2013             UrbanCode   Software deliv  USA                                             IBM          \r\n",
      "ACQ320         June              11                    2013             Waze        GPS navigation  ISR         966000000    Google Maps , Waze     Google       \r\n",
      "ACQ312         July              18                    2013             Monoidics   Automatic veri  UK                                              Facebook     \r\n",
      "ACQ295         September         16                    2013             Bump        Mobile softwar  USA                      Google Photos          Google       \r\n",
      "ACQ27          May               31                    2017             XCC (divis  Collaboration   GER                                             IBM          \r\n",
      "ACQ264         December          23                    2013             Catch.com   Software        USA                      Siri                   Apple        \r\n",
      "ACQ260         January           4                     2014             SnappyLabs  Photography so  USA                      Camera                 Apple        \r\n",
      "ACQ259         January           7                     2014             Parature    Customer servi  USA         100000000                           Microsoft    \r\n",
      "ACQ25          June              16                    2017             SensoMotor  Eye tracking h  GER                      ARKit                  Apple        \r\n",
      "ACQ243         February          21                    2014             Burstly     Software testi  USA                      TestFlight, App Store  Apple        \r\n",
      "ACQ198         August            1                     2014             Inception   Software        CAN                                             Microsoft    \r\n",
      "ACQ187         August            26                    2014             Zync Rende  Cloud-based vi  USA                      Google Cloud Platform  Google       \r\n",
      "ACQ172         November          19                    2014             RelativeWa  Mobile softwar  USA                      Android                Google       \r\n",
      "ACQ155         February          12                    2015             N-trig      Styli and pen   ISR         200000000                           Microsoft    \r\n",
      "ACQ144         April             13                    2015             Phytel      Health managem  USA                                             IBM          \r\n",
      "ACQ140         April             16                    2015             Skillman &  Virtual realit  USA                      Tilt Brush             Google       \r\n",
      "ACQ136         May               4                     2015             Timeful     Mobile softwar  USA                      Google Inbox, Google   Google       \r\n",
      "ACQ125         July              21                    2015             Pixate      Mobile softwar  USA                      Android                Google       \r\n",
      "ACQ121         August            6                     2015             Merge Heal  Healthcare ima  USA         1000000000                          IBM          \r\n",
      "ACQ115         September         11                    2015             Double Lab  Mobile lock sc  USA                                             Microsoft    \r\n",
      "ACQ103         November          3                     2015             Gravitant,  Cloud brokerag  USA                                             IBM          \r\n",
      "ACQ101         November          6                     2015             Cleversafe  Object-based s  USA         1309000000                          IBM          \r\n"
     ]
    }
   ],
   "source": [
    "select * from acquisitions where Business like \"%software%\""
   ]
  },
  {
   "cell_type": "markdown",
   "metadata": {},
   "source": [
    "#### Problem 6: Açıklanan değerlere göre en fazla parcanan yatırımları fiyata göre değerlendiriniz."
   ]
  },
  {
   "cell_type": "code",
   "execution_count": 6,
   "metadata": {},
   "outputs": [
    {
     "name": "stdout",
     "output_type": "stream",
     "text": [
      "AcquisitionYear  Company     Value (USD)  ParentCompany  Price     \r\n",
      "---------------  ----------  -----------  -------------  ----------\r\n",
      "2015             bebop       380000000    Google         Yuksek    \r\n",
      "1987             Forethough  14000000     Microsoft      Dusuk     \r\n",
      "1996             Vermeer Te  133000000    Microsoft      Dusuk     \r\n",
      "1996             Aspect Sof  14150000     Microsoft      Dusuk     \r\n",
      "1997             NetCarta    20000000     Microsoft      Orta      \r\n",
      "1997             NeXT        404000000    Apple          Yuksek    \r\n",
      "1997             WebTV Netw  425000000    Microsoft      Yuksek    \r\n",
      "1997             Net Contro  1400000      Yahoo          Dusuk     \r\n",
      "1997             Power Comp  110000000    Apple          Dusuk     \r\n",
      "1997             Four11      92000000     Yahoo          Yuksek    \r\n",
      "1997             Hotmail     500000000    Microsoft      Yuksek    \r\n",
      "1998             Firefly     40000000     Microsoft      Yuksek    \r\n",
      "1998             Viaweb      48600000     Yahoo          Yuksek    \r\n",
      "1998             Webcal      21000000     Yahoo          Orta      \r\n",
      "1998             Yoyodyne    29600000     Yahoo          Yuksek    \r\n",
      "1998             LinkExchan  265000000    Microsoft      Yuksek    \r\n",
      "1998             Hyperparal  8100000      Yahoo          Yuksek    \r\n",
      "1999             Xemplar Ed  4926000      Apple          Yuksek    \r\n",
      "1999             Broadcast.  5700000000   Yahoo          Yuksek    \r\n",
      "1999             Encompass   130000000    Yahoo          Dusuk     \r\n",
      "2016             TouchType,  250000000    Microsoft      Yuksek    \r\n",
      "1999             GeoCities   3600000000   Yahoo          Yuksek    \r\n",
      "1999             Online Any  80000000     Yahoo          Yuksek    \r\n",
      "1999             Intrinsa    58900000     Microsoft      Yuksek    \r\n",
      "1999             Sendit      125420000    Microsoft      Dusuk     \r\n",
      "1999             Raycer Gra  15000000     Apple          Dusuk     \r\n",
      "2000             Visio Corp  1375000000   Microsoft      Dusuk     \r\n",
      "2000             Travelscap  89750000     Microsoft      Yuksek    \r\n",
      "2000             Titus Comm  944800000    Microsoft      Yuksek    \r\n",
      "2000             VivaSmart   8900000      Yahoo          Yuksek    \r\n",
      "2000             eGroups     432000000    Yahoo          Yuksek    \r\n",
      "2000             MongoMusic  65000000     Microsoft      Yuksek    \r\n",
      "2000             Kimo        30000000     Yahoo          Yuksek    \r\n",
      "2001             Sold.com.a  30000000     Yahoo          Yuksek    \r\n",
      "2001             Vacationsp  70850000     Microsoft      Yuksek    \r\n",
      "2001             Great Plai  939884000    Microsoft      Yuksek    \r\n",
      "2001             NCompass L  36000000     Microsoft      Yuksek    \r\n",
      "2001             Mainspring  80000000     IBM            Yuksek    \r\n",
      "2001             Maximal In  20000000     Microsoft      Orta      \r\n",
      "2001             LAUNCH Med  12000000     Yahoo          Dusuk     \r\n",
      "2001             Informix C  1000000000   IBM            Dusuk     \r\n",
      "2001             Spruce Tec  14900000     Apple          Dusuk     \r\n",
      "2001             PowerSchoo  66100000     Apple          Yuksek    \r\n",
      "2002             CrossWorld  129000000    IBM            Dusuk     \r\n",
      "2002             Nothing Re  15000000     Apple          Dusuk     \r\n",
      "2002             Hotjobs.co  436000000    Yahoo          Yuksek    \r\n",
      "2002             Classic Cu  78000000     Microsoft      Yuksek    \r\n",
      "2002             Zayante     13000000     Apple          Dusuk     \r\n",
      "2002             Silicon Gr  20000000     Apple          Orta      \r\n",
      "2002             Prismo Gra  20000000     Apple          Orta      \r\n",
      "2002             Emagic      30000000     Apple          Yuksek    \r\n",
      "2002             Navision    1330000000   Microsoft      Dusuk     \r\n",
      "2002             Rare        375000000    Microsoft      Yuksek    \r\n",
      "2016             Truven Hea  2600000000   IBM            Yuksek    \r\n",
      "2002             PWC Consul  3500000000   IBM            Yuksek    \r\n",
      "2002             Vicinity    95849000     Microsoft      Yuksek    \r\n",
      "2002             Inktomi Co  235000000    Yahoo          Orta      \r\n",
      "2003             Rational S  2100000000   IBM            Orta      \r\n",
      "2003             Applied Se  102000000    Google         Dusuk     \r\n",
      "2003             PlaceWare   200000000    Microsoft      Orta      \r\n",
      "2003             Overture S  1630000000   Yahoo          Dusuk     \r\n",
      "2003             3DO Co-Hig  450000       Microsoft      Yuksek    \r\n",
      "2004             3721 Inter  120000000    Yahoo          Dusuk     \r\n",
      "2004             Kelkoo      579000000    Yahoo          Yuksek    \r\n",
      "2004             Daksh e-Se  170000000    IBM            Dusuk     \r\n",
      "2004             Oddpost     30000000     Yahoo          Yuksek    \r\n",
      "2004             Musicmatch  160000000    Yahoo          Dusuk     \r\n",
      "2016             Blue Wolf   200000000    IBM            Orta      \r\n",
      "2005             Verdisoft   58000000     Yahoo          Yuksek    \r\n",
      "2005             Corio       182000000    IBM            Dusuk     \r\n",
      "2005             Ludicorp    40000000     Yahoo          Yuksek    \r\n",
      "2005             Ascential   1100000000   IBM            Dusuk     \r\n",
      "2005             MessageCas  7000000      Microsoft      Yuksek    \r\n",
      "2005             Tsinghua-S  15000000     Microsoft      Dusuk     \r\n",
      "2005             Android In  50000000     Google         Yuksek    \r\n",
      "2005             facebook.c  200000       Facebook       Dusuk     \r\n",
      "2005             5th Finger  3153000      Microsoft      Yuksek    \r\n",
      "2005             del.icio.u  20000000     Yahoo          Orta      \r\n",
      "2006             dMarc Broa  102000000    Google         Dusuk     \r\n",
      "2006             MotionBrid  17858000     Microsoft      Dusuk     \r\n",
      "2006             Micromuse,  865000000    IBM            Yuksek    \r\n",
      "2016             Magic Pony  150000000    Twitter        Dusuk     \r\n",
      "2006             MRO Softwa  740000000    IBM            Yuksek    \r\n",
      "2006             YouTube     1650000000   Google         Dusuk     \r\n",
      "2006             FileNet Co  1600000000   IBM            Dusuk     \r\n",
      "2006             Internet S  1300000000   IBM            Dusuk     \r\n",
      "2006             Kenet Work  25000000     Yahoo          Orta      \r\n",
      "2006             Wretch      22000000     Yahoo          Orta      \r\n",
      "2006             Endoxon     28000000     Google         Yuksek    \r\n",
      "2007             Adscape     23000000     Google         Orta      \r\n",
      "2007             DoubleClic  3100000000   Google         Yuksek    \r\n",
      "2007             Marratech   15000000     Google         Dusuk     \r\n",
      "2007             Unicible    460000000    IBM            Yuksek    \r\n",
      "2007             Right Medi  850000000    Yahoo          Yuksek    \r\n",
      "2016             Turi        200000000    Apple          Orta      \r\n",
      "2007             FeedBurner  100000000    Google         Dusuk     \r\n",
      "2007             Savvis Inc  200000000    Microsoft      Orta      \r\n",
      "2007             GrandCentr  45000000     Google         Yuksek    \r\n",
      "2007             Postini     625000000    Google         Yuksek    \r\n",
      "2007             aQuantive   6333000000   Microsoft      Yuksek    \r\n",
      "2007             DataMirror  161000000    IBM            Dusuk     \r\n",
      "2007             BlueLithiu  300000000    Yahoo          Yuksek    \r\n",
      "2016             Orbitera    100000000    Google         Dusuk     \r\n",
      "2007             Zimbra      350000000    Yahoo          Yuksek    \r\n",
      "2008             XIV         300000000    IBM            Yuksek    \r\n",
      "2008             Cognos      5000000000   IBM            Yuksek    \r\n",
      "2008             Maven Netw  160000000    Yahoo          Dusuk     \r\n",
      "2008             Komoku      5000000      Microsoft      Yuksek    \r\n",
      "2008             Telelogic   845000000    IBM            Yuksek    \r\n",
      "2008             Farecast    75000000     Microsoft      Yuksek    \r\n",
      "2008             Danger      500000000    Microsoft      Yuksek    \r\n",
      "2008             Diligent T  200000000    IBM            Orta      \r\n",
      "2016             Apigee      625000000    Google         Yuksek    \r\n",
      "2008             P.A. Semi   278000000    Apple          Yuksek    \r\n",
      "2008             Fast Searc  1191000000   Microsoft      Dusuk     \r\n",
      "2008             ConnectU    31000000     Facebook       Yuksek    \r\n",
      "2008             ILOG        340000000    IBM            Yuksek    \r\n",
      "2008             Omnisio     15000000     Google         Dusuk     \r\n",
      "2008             Greenfield  486000000    Microsoft      Yuksek    \r\n",
      "2009             3DV System  35000000     Microsoft      Yuksek    \r\n",
      "2009             Xoopit      20000000     Yahoo          Orta      \r\n",
      "2009             SPSS Inc.   1200000000   IBM            Dusuk     \r\n",
      "2009             On2         133000000    Google         Dusuk     \r\n",
      "2009             FriendFeed  47500000     Facebook       Yuksek    \r\n",
      "2009             Maktoob.co  167000000    Yahoo          Dusuk     \r\n",
      "2009             Gizmo5      30000000     Google         Yuksek    \r\n",
      "2009             AdMob       750000000    Google         Yuksek    \r\n",
      "2009             Lala.com    17000000     Apple          Dusuk     \r\n",
      "2009             Mixer labs  5170000      Twitter        Yuksek    \r\n",
      "2010             Quattro Wi  275000000    Apple          Yuksek    \r\n",
      "2010             Aardvark    50000000     Google         Yuksek    \r\n",
      "2010             DocVerse    25000000     Google         Orta      \r\n",
      "2010             Intrinsity  121000000    Apple          Dusuk     \r\n",
      "2010             BumpTop     30000000     Google         Yuksek    \r\n",
      "2010             Cast Iron   190000000    IBM            Dusuk     \r\n",
      "2010             Gipsy Moth  12000000     Apple          Dusuk     \r\n",
      "2010             Friendster  40000000     Facebook       Yuksek    \r\n",
      "2010             Global IP   68200000     Google         Yuksek    \r\n",
      "2010             Sterling C  1400000000   IBM            Dusuk     \r\n",
      "2010             Invite Med  81000000     Google         Yuksek    \r\n",
      "2010             Nextstop    2500000      Facebook       Orta      \r\n",
      "2010             Storwize    140000000    IBM            Dusuk     \r\n",
      "2010             Slide.com   228000000    Google         Orta      \r\n",
      "2010             Jambool     70000000     Google         Yuksek    \r\n",
      "2010             Unica Corp  480000000    IBM            Yuksek    \r\n",
      "2010             Like.com    100000000    Google         Dusuk     \r\n",
      "2010             Chai Labs   10000000     Facebook       Dusuk     \r\n",
      "2010             Quiksee     10000000     Google         Dusuk     \r\n",
      "2010             Polar Rose  29000000     Apple          Yuksek    \r\n",
      "2010             Netezza     1700000000   IBM            Dusuk     \r\n",
      "2010             Dapper      55000000     Yahoo          Yuksek    \r\n",
      "2010             Clarity Sy  350000000    IBM            Yuksek    \r\n",
      "2010             FB.com dom  8500000      Facebook       Yuksek    \r\n",
      "2011             Spreets     40000000     Yahoo          Yuksek    \r\n",
      "2011             BeatThatQu  65000000     Google         Yuksek    \r\n",
      "2011             Snaptu      70000000     Facebook       Yuksek    \r\n",
      "2011             PushLife    25000000     Google         Orta      \r\n",
      "2011             ITA Softwa  676000000    Google         Yuksek    \r\n",
      "2011             IntoNow     20000000     Yahoo          Orta      \r\n",
      "2011             Skype Tech  8500000000   Microsoft      Yuksek    \r\n",
      "2011             TweetDeck   40000000     Twitter        Yuksek    \r\n",
      "2011             Admeld      400000000    Google         Yuksek    \r\n",
      "2011             C3 Technol  267000000    Apple          Yuksek    \r\n",
      "2011             Motorola M  12500000000  Google         Dusuk     \r\n",
      "2011             Algorithmi  387000000    IBM            Yuksek    \r\n",
      "2011             Zagat       151000000    Google         Dusuk     \r\n",
      "2011             DailyDeal   114000000    Google         Dusuk     \r\n",
      "2011             Interclick  270000000    Yahoo          Yuksek    \r\n",
      "2016             LinkedIn    26200000000  Microsoft      Yuksek    \r\n",
      "2011             Videosurf   100000000    Microsoft      Dusuk     \r\n",
      "2011             DemandTec   440000000    IBM            Yuksek    \r\n",
      "2011             Anobit      390000000    Apple          Yuksek    \r\n",
      "2012             Worklight   70000000     IBM            Yuksek    \r\n",
      "2012             Chomp       50000000     Apple          Yuksek    \r\n",
      "2012             Instagram   1000000000   Facebook       Dusuk     \r\n",
      "2012             Meebo       100000000    Google         Dusuk     \r\n",
      "2012             Face.com    100000000    Facebook       Dusuk     \r\n",
      "2012             Yammer      1200000000   Microsoft      Dusuk     \r\n",
      "2012             Sparrow     25000000     Google         Orta      \r\n",
      "2012             AuthenTec   356000000    Apple          Yuksek    \r\n",
      "2012             Wildfire I  450000000    Google         Yuksek    \r\n",
      "2012             Kenexa Cor  1400000000   IBM            Dusuk     \r\n",
      "2012             Viewdle     45000000     Google         Yuksek    \r\n",
      "2012             Vine        30000000     Twitter        Yuksek    \r\n",
      "2012             BufferBox   17000000     Google         Dusuk     \r\n",
      "2013             Snip.it     10000000     Yahoo          Dusuk     \r\n",
      "2013             Crashlytic  100000000    Twitter        Dusuk     \r\n",
      "2013             Channel In  125000000    Google         Dusuk     \r\n",
      "2013             Bluefin La  80000000     Twitter        Yuksek    \r\n",
      "2013             WiFiSlam    20000000     Apple          Orta      \r\n",
      "2013             Summly      30000000     Yahoo          Yuksek    \r\n",
      "2013             Wavii       30000000     Google         Yuksek    \r\n",
      "2013             Parse       85000000     Facebook       Yuksek    \r\n",
      "2013             Tumblr      1100000000   Yahoo          Dusuk     \r\n",
      "2013             SoftLayer   2000000000   IBM            Orta      \r\n",
      "2013             Waze        966000000    Google         Yuksek    \r\n",
      "2013             Qwiki       50000000     Yahoo          Yuksek    \r\n",
      "2013             Xobni       40000000     Yahoo          Yuksek    \r\n",
      "2013             Lexity      35000000     Yahoo          Yuksek    \r\n",
      "2013             Trusteer    1000000000   IBM            Dusuk     \r\n",
      "2013             Nokia mobi  7200000000   Microsoft      Yuksek    \r\n",
      "2013             MoPub       350000000    Twitter        Yuksek    \r\n",
      "2013             Flutter     40000000     Google         Yuksek    \r\n",
      "2013             Cue         50000000     Apple          Yuksek    \r\n",
      "2013             FlexyCore   23000000     Google         Orta      \r\n",
      "2013             Fiberlink   330000000    IBM            Yuksek    \r\n",
      "2013             PrimeSense  345000000    Apple          Yuksek    \r\n",
      "2017             Lattice Da  200000000    Apple          Orta      \r\n",
      "2013             Topsy       200000000    Apple          Orta      \r\n",
      "2013             Ptch        6500000      Yahoo          Yuksek    \r\n",
      "2017             Hexadite    100000000    Microsoft      Dusuk     \r\n",
      "2014             Parature    100000000    Microsoft      Dusuk     \r\n",
      "2014             Little Eye  15000000     Facebook       Dusuk     \r\n",
      "2014             Nest Labs   3200000000   Google         Yuksek    \r\n",
      "2014             Branch      15000000     Facebook       Dusuk     \r\n",
      "2014             DeepMind T  625000000    Google         Yuksek    \r\n",
      "2014             WhatsApp    19000000000  Facebook       Dusuk     \r\n",
      "2017             Cloudyn     50000000     Microsoft      Yuksek    \r\n",
      "2014             Oculus VR   2000000000   Facebook       Orta      \r\n",
      "2014             Ascenta     20000000     Facebook       Orta      \r\n",
      "2014             Gnip        134000000    Twitter        Dusuk     \r\n",
      "2014             TapCommerc  100000000    Twitter        Dusuk     \r\n",
      "2014             Namo Media  50000000     Twitter        Yuksek    \r\n",
      "2014             Skybox Ima  500000000    Google         Yuksek    \r\n",
      "2014             Dropcam     555000000    Google         Yuksek    \r\n",
      "2014             Swell       30000000     Apple          Yuksek    \r\n",
      "2014             Flurry      200000000    Yahoo          Orta      \r\n",
      "2014             Beats Elec  3000000000   Apple          Yuksek    \r\n",
      "2017             HTC (porti  1100000000   Google         Dusuk     \r\n",
      "2014             Bookpad     15000000     Yahoo          Dusuk     \r\n",
      "2017             Vrvana      30000000     Apple          Yuksek    \r\n",
      "2014             Mojang      2500000000   Microsoft      Yuksek    \r\n",
      "2014             BrightRoll  640000000    Yahoo          Yuksek    \r\n",
      "2015             Semetric    50000000     Apple          Yuksek    \r\n",
      "2015             Sunrise At  100000000    Microsoft      Dusuk     \r\n",
      "2015             N-trig      200000000    Microsoft      Orta      \r\n",
      "2015             Periscope   100000000    Twitter        Dusuk     \r\n",
      "2015             LinX        20000000     Apple          Orta      \r\n",
      "2015             TellApart   479000000    Twitter        Yuksek    \r\n",
      "2015             Pebbles     60000000     Facebook       Yuksek    \r\n",
      "2015             Adallom     320000000    Microsoft      Yuksek    \r\n",
      "2015             Polyvore    160000000    Yahoo          Dusuk     \r\n",
      "2015             Merge Heal  1000000000   IBM            Dusuk     \r\n",
      "2015             Cleversafe  1309000000   IBM            Dusuk     \r\n",
      "2018             Github      7500000000   Microsoft      Yuksek    \r\n"
     ]
    }
   ],
   "source": [
    "select AcquisitionYear, Company, `Value (USD)`, ParentCompany,\n",
    "case when `Value (USD)`>=250000000 then 'Yuksek'\n",
    "when `Value (USD)`<250000000 and `Value (USD)`>=20000000 then 'Orta'\n",
    "when `Value (USD)`<20000000 then 'Dusuk' end as Price from acquisitions where `Value (USD)` > 0"
   ]
  },
  {
   "cell_type": "markdown",
   "metadata": {},
   "source": [
    "#### Problem 7: Ana şirketlerin 2015 yılında yaptığını satın alma sayısını gösteriniz."
   ]
  },
  {
   "cell_type": "code",
   "execution_count": 7,
   "metadata": {},
   "outputs": [
    {
     "name": "stdout",
     "output_type": "stream",
     "text": [
      "ParentCompany  Count(AcquisitionID)\r\n",
      "-------------  --------------------\r\n",
      "Apple          10                  \r\n",
      "Facebook       6                   \r\n",
      "Google         15                  \r\n",
      "IBM            13                  \r\n",
      "Microsoft      19                  \r\n",
      "Twitter        8                   \r\n",
      "Yahoo          1                   \r\n"
     ]
    }
   ],
   "source": [
    "select distinct ParentCompany, Count(AcquisitionID) from acquisitions\n",
    "where AcquisitionYear=2015 group by ParentCompany;"
   ]
  },
  {
   "cell_type": "markdown",
   "metadata": {},
   "source": [
    "#### Problem 8: Ana şirketlerin 2000-2018 yılları arasında yıl başı satın alma ortalamalarını bulunuz."
   ]
  },
  {
   "cell_type": "code",
   "execution_count": 8,
   "metadata": {},
   "outputs": [
    {
     "name": "stdout",
     "output_type": "stream",
     "text": [
      "ParentCompany  Average_Acquisition\r\n",
      "-------------  -------------------\r\n",
      "Apple          4                  \r\n",
      "Facebook       3                  \r\n",
      "Google         11                 \r\n",
      "IBM            9                  \r\n",
      "Microsoft      8                  \r\n",
      "Twitter        2                  \r\n",
      "Yahoo          5                  \r\n"
     ]
    }
   ],
   "source": [
    "select distinct ParentCompany, Count(AcquisitionID)/18 as Average_Acquisition from acquisitions\n",
    "where AcquisitionYear>=2000 and AcquisitionYear<2018 group by ParentCompany;"
   ]
  },
  {
   "cell_type": "markdown",
   "metadata": {},
   "source": [
    "#### Problem 9: Big Data alanına en çok yatırım yapan şirketi bulunuz."
   ]
  },
  {
   "cell_type": "code",
   "execution_count": 9,
   "metadata": {},
   "outputs": [
    {
     "name": "stdout",
     "output_type": "stream",
     "text": [
      "ParentCompany  Count(AcquisitionID)  Business                             \r\n",
      "-------------  --------------------  -------------------------------------\r\n",
      "IBM            3                     Natural language processing, big data\r\n",
      "Microsoft      1                     Big Data Analytics                   \r\n",
      "Twitter        1                     Big Data visualization               \r\n"
     ]
    }
   ],
   "source": [
    "select distinct ParentCompany, Count(AcquisitionID), Business from acquisitions\n",
    "where Business like \"%big data%\" group by ParentCompany;"
   ]
  },
  {
   "cell_type": "markdown",
   "metadata": {},
   "source": [
    "#### Problem 10: Yıla göre satın alma miktarlarını bulup en çok satın alan şirketi satın alma sayısına göre büyükten küçüğe sıralayınız."
   ]
  },
  {
   "cell_type": "code",
   "execution_count": 10,
   "metadata": {},
   "outputs": [
    {
     "name": "stdout",
     "output_type": "stream",
     "text": [
      "AcquisitionYear  ParentCompany  Count(AcquisitionID)\r\n",
      "---------------  -------------  --------------------\r\n",
      "2014             Google         96                  \r\n",
      "2013             Apple          94                  \r\n",
      "2015             Microsoft      72                  \r\n",
      "2010             Twitter        67                  \r\n",
      "2011             Apple          59                  \r\n",
      "2016             Google         54                  \r\n",
      "2006             Google         53                  \r\n",
      "2012             IBM            52                  \r\n",
      "2007             Microsoft      50                  \r\n",
      "2005             Google         45                  \r\n",
      "2008             Twitter        39                  \r\n",
      "2017             Google         34                  \r\n",
      "2004             Microsoft      27                  \r\n",
      "2009             Twitter        25                  \r\n",
      "2002             Yahoo          23                  \r\n",
      "2003             IBM            20                  \r\n",
      "1999             Apple          19                  \r\n",
      "2000             Apple          16                  \r\n",
      "2001             Apple          16                  \r\n",
      "1997             Microsoft      12                  \r\n",
      "1998             Yahoo          11                  \r\n",
      "1996             Microsoft      8                   \r\n",
      "2018             Microsoft      7                   \r\n",
      "1995             Microsoft      5                   \r\n",
      "1988             Apple          4                   \r\n",
      "1994             Microsoft      4                   \r\n",
      "1987             Microsoft      1                   \r\n",
      "1989             Apple          1                   \r\n",
      "1991             Microsoft      1                   \r\n",
      "1992             Microsoft      1                   \r\n"
     ]
    }
   ],
   "source": [
    "select distinct AcquisitionYear, ParentCompany, Count(AcquisitionID) from acquisitions\n",
    "group by AcquisitionYear order by Count(AcquisitionID) desc"
   ]
  },
  {
   "cell_type": "markdown",
   "metadata": {},
   "source": [
    "#### Problem 11: 2015 yılında 7 veya daha fazla satın alma yapan şirketleri gösteriniz."
   ]
  },
  {
   "cell_type": "code",
   "execution_count": 11,
   "metadata": {},
   "outputs": [
    {
     "name": "stdout",
     "output_type": "stream",
     "text": [
      "ParentCompany  Acquisition_Number\r\n",
      "-------------  ------------------\r\n",
      "Apple          10                \r\n",
      "Google         15                \r\n",
      "IBM            13                \r\n",
      "Microsoft      19                \r\n",
      "Twitter        8                 \r\n"
     ]
    }
   ],
   "source": [
    "select distinct ParentCompany, Count(AcquisitionID) as Acquisition_Number\n",
    "from acquisitions where AcquisitionYear=2015 group by ParentCompany having Acquisition_Number>=7"
   ]
  },
  {
   "cell_type": "markdown",
   "metadata": {},
   "source": [
    "#### Problem 12: Ana şirketlerin 2015 ve 2016 yıllarında satın almalara harcadığı toplam para miktarını bulunuz."
   ]
  },
  {
   "cell_type": "code",
   "execution_count": 12,
   "metadata": {},
   "outputs": [
    {
     "name": "stdout",
     "output_type": "stream",
     "text": [
      "ParentCompany  Total_Spending\r\n",
      "-------------  --------------\r\n",
      "Apple          270000000     \r\n",
      "Facebook       60000000      \r\n",
      "Google         1105000000    \r\n",
      "IBM            5109000000    \r\n",
      "Microsoft      27070000000   \r\n",
      "Twitter        729000000     \r\n",
      "Yahoo          160000000     \r\n"
     ]
    }
   ],
   "source": [
    "select distinct ParentCompany, SUM(`VALUE (USD)`) as Total_Spending\n",
    "from acquisitions where (AcquisitionYear=2016 or AcquisitionYear=2015) and `VALUE (USD)`>0\n",
    "group by ParentCompany"
   ]
  },
  {
   "cell_type": "markdown",
   "metadata": {},
   "source": [
    "#### Problem 13: Countries of the World datasetini import ediniz."
   ]
  },
  {
   "cell_type": "code",
   "execution_count": 13,
   "metadata": {},
   "outputs": [
    {
     "name": "stdout",
     "output_type": "stream",
     "text": []
    }
   ],
   "source": [
    ".mode csv\n",
    ".import 'countries of the world.csv' countries\n",
    ".mode columns\n",
    ".headers on\n",
    "update countries set Region=RTrim(Region)"
   ]
  },
  {
   "cell_type": "markdown",
   "metadata": {},
   "source": [
    "Region sütununda bazı kayıtlar başında ve sonunda boşluklar olacak şekilde eklendiği için bazı WHERE sorguları çalışmıyordu. O nedenle Region columnundaki boşlukları RTrim() fonksiyonunu kullanarak temizledim."
   ]
  },
  {
   "cell_type": "markdown",
   "metadata": {},
   "source": [
    "#### Problem 14: countries tablosundan Batı Avrupa bölgesinde bulunan ilk 10 ülkeyi gösteriniz."
   ]
  },
  {
   "cell_type": "code",
   "execution_count": 14,
   "metadata": {},
   "outputs": [
    {
     "name": "stdout",
     "output_type": "stream",
     "text": [
      "Country     Region          Population  Area (sq. mi.)  Pop. Density (per sq. mi.)  Coastline (coast/area ratio)  Net migration  Infant mortality (per 1000 births)  GDP ($ per capita)  Literacy (%)  Phones (per 1000)  Arable (%)  Crops (%)   Other (%)   Climate     Birthrate   Deathrate   Agriculture  Industry    Service   \r\n",
      "----------  --------------  ----------  --------------  --------------------------  ----------------------------  -------------  ----------------------------------  ------------------  ------------  -----------------  ----------  ----------  ----------  ----------  ----------  ----------  -----------  ----------  ----------\r\n",
      "Andorra     WESTERN EUROPE  71201       468             152,1                       0,00                          6,6            4,05                                19000               100,0         497,2              2,22        0           97,78       3           8,71        6,25                                           \r\n",
      "Austria     WESTERN EUROPE  8192880     83870           97,7                        0,00                          2              4,66                                30000               98,0          452,2              16,91       0,86        82,23       3           8,74        9,76        18           304         678       \r\n",
      "Belgium     WESTERN EUROPE  10379067    30528           340,0                       0,22                          1,23           4,68                                29100               98,0          462,6              23,28       0,4         76,32       3           10,38       10,27       0,01         0,24        749       \r\n",
      "Denmark     WESTERN EUROPE  5450661     43094           126,5                       16,97                         2,48           4,56                                31100               100,0         614,6              54,02       0,19        45,79       3           11,13       10,36       18           246         735       \r\n",
      "Faroe Isla  WESTERN EUROPE  47246       1399            33,8                        79,84                         1,41           6,24                                22000                             503,8              2,14        0           97,86                   14,05       8,7         0,27         0,11        0,62      \r\n",
      "Finland     WESTERN EUROPE  5231372     338145          15,5                        0,37                          0,95           3,57                                27400               100,0         405,3              7,19        0,03        92,78       3           10,45       9,86        28           295         676       \r\n",
      "France      WESTERN EUROPE  60876136    547030          111,3                       0,63                          0,66           4,26                                27600               99,0          586,4              33,53       2,07        64,4        4           11,99       9,14        22           214         764       \r\n",
      "Germany     WESTERN EUROPE  82422299    357021          230,9                       0,67                          2,18           4,16                                27600               99,0          667,9              33,85       0,59        65,56       3           8,25        10,62       9            296         695       \r\n",
      "Gibraltar   WESTERN EUROPE  27928       7               3989,7                      171,43                        0              5,13                                17500                             877,7              0           0           100                     10,74       9,31                                           \r\n",
      "Greece      WESTERN EUROPE  10688058    131940          81,0                        10,37                         2,35           5,53                                20000               97,5          589,7              21,1        8,78        70,12       3           9,68        10,24       54           213         733       \r\n"
     ]
    }
   ],
   "source": [
    "select * from countries where Region=\"WESTERN EUROPE\" limit 10"
   ]
  },
  {
   "cell_type": "markdown",
   "metadata": {},
   "source": [
    "#### Problem 15: acquisitions ve countries tablolarını join işlemi ile birleştirerek ilk 20 kaydı gösteriniz."
   ]
  },
  {
   "cell_type": "code",
   "execution_count": 15,
   "metadata": {},
   "outputs": [
    {
     "name": "stdout",
     "output_type": "stream",
     "text": [
      "AcquisitionID  AcquisitionMonth  AcquisitionMonthDate  AcquisitionYear  Company     Business        Country     Value (USD)  Derived products       ParentCompany  Country       Region                Population  Area (sq. mi.)  Pop. Density (per sq. mi.)  Coastline (coast/area ratio)  Net migration  Infant mortality (per 1000 births)  GDP ($ per capita)  Literacy (%)  Phones (per 1000)  Arable (%)  Crops (%)   Other (%)   Climate     Birthrate   Deathrate   Agriculture  Industry    Service   \r\n",
      "-------------  ----------------  --------------------  ---------------  ----------  --------------  ----------  -----------  ---------------------  -------------  ------------  --------------------  ----------  --------------  --------------------------  ----------------------------  -------------  ----------------------------------  ------------------  ------------  -----------------  ----------  ----------  ----------  ----------  ----------  ----------  -----------  ----------  ----------\r\n",
      "ACQ99          November          11                    2015             bebop       Cloud software  USA         380000000    Google Cloud Platform  Google         Afghanistan   ASIA (EX. NEAR EAST)  31056997    647500          48,0                        0,00                          23,06          163,07                              700                 36,0          3,2                12,13       0,22        87,65       1           46,6        20,34       0,38         0,24        0,38      \r\n",
      "ACQ99          November          11                    2015             bebop       Cloud software  USA         380000000    Google Cloud Platform  Google         Albania       EASTERN EUROPE        3581655     28748           124,6                       1,26                          -4,93          21,52                               4500                86,5          71,2               21,09       4,42        74,49       3           15,11       5,22        232          188         579       \r\n",
      "ACQ99          November          11                    2015             bebop       Cloud software  USA         380000000    Google Cloud Platform  Google         Algeria       NORTHERN AFRICA       32930091    2381740         13,8                        0,04                          -0,39          31                                  6000                70,0          78,1               3,22        0,25        96,53       1           17,14       4,61        101          0,6         298       \r\n",
      "ACQ99          November          11                    2015             bebop       Cloud software  USA         380000000    Google Cloud Platform  Google         American Sam  OCEANIA               57794       199             290,4                       58,29                         -20,71         9,27                                8000                97,0          259,5              10          15          75          2           22,46       3,27                                           \r\n",
      "ACQ99          November          11                    2015             bebop       Cloud software  USA         380000000    Google Cloud Platform  Google         Andorra       WESTERN EUROPE        71201       468             152,1                       0,00                          6,6            4,05                                19000               100,0         497,2              2,22        0           97,78       3           8,71        6,25                                           \r\n",
      "ACQ99          November          11                    2015             bebop       Cloud software  USA         380000000    Google Cloud Platform  Google         Angola        SUB-SAHARAN AFRICA    12127071    1246700         9,7                         0,13                          0              191,19                              1900                42,0          7,8                2,41        0,24        97,35                   45,11       24,2        96           658         246       \r\n",
      "ACQ99          November          11                    2015             bebop       Cloud software  USA         380000000    Google Cloud Platform  Google         Anguilla      LATIN AMER. & CARIB   13477       102             132,1                       59,80                         10,76          21,03                               8600                95,0          460,0              0           0           100         2           14,17       5,34        0,04         0,18        0,78      \r\n",
      "ACQ99          November          11                    2015             bebop       Cloud software  USA         380000000    Google Cloud Platform  Google         Antigua & Ba  LATIN AMER. & CARIB   69108       443             156,0                       34,54                         -6,15          19,46                               11000               89,0          549,9              18,18       4,55        77,27       2           16,93       5,37        38           0,22        743       \r\n",
      "ACQ99          November          11                    2015             bebop       Cloud software  USA         380000000    Google Cloud Platform  Google         Argentina     LATIN AMER. & CARIB   39921833    2766890         14,4                        0,18                          0,61           15,18                               11200               97,1          220,4              12,31       0,48        87,21       3           16,73       7,55        95           358         547       \r\n",
      "ACQ99          November          11                    2015             bebop       Cloud software  USA         380000000    Google Cloud Platform  Google         Armenia       C.W. OF IND. STATES   2976372     29800           99,9                        0,00                          -6,47          23,28                               3500                98,6          195,7              17,55       2,3         80,15       4           12,07       8,23        239          343         418       \r\n",
      "ACQ99          November          11                    2015             bebop       Cloud software  USA         380000000    Google Cloud Platform  Google         Aruba         LATIN AMER. & CARIB   71891       193             372,5                       35,49                         0              5,89                                28000               97,0          516,1              10,53       0           89,47       2           11,03       6,68        4            333         663       \r\n",
      "ACQ99          November          11                    2015             bebop       Cloud software  USA         380000000    Google Cloud Platform  Google         Australia     OCEANIA               20264082    7686850         2,6                         0,34                          3,98           4,69                                29000               100,0         565,5              6,55        0,04        93,41       1           12,14       7,51        38           262         0,7       \r\n",
      "ACQ99          November          11                    2015             bebop       Cloud software  USA         380000000    Google Cloud Platform  Google         Austria       WESTERN EUROPE        8192880     83870           97,7                        0,00                          2              4,66                                30000               98,0          452,2              16,91       0,86        82,23       3           8,74        9,76        18           304         678       \r\n",
      "ACQ99          November          11                    2015             bebop       Cloud software  USA         380000000    Google Cloud Platform  Google         Azerbaijan    C.W. OF IND. STATES   7961619     86600           91,9                        0,00                          -4,9           81,74                               3400                97,0          137,1              19,63       2,71        77,66       1           20,74       9,75        141          457         402       \r\n",
      "ACQ99          November          11                    2015             bebop       Cloud software  USA         380000000    Google Cloud Platform  Google         Bahamas, The  LATIN AMER. & CARIB   303770      13940           21,8                        25,41                         -2,2           25,21                               16700               95,6          460,6              0,8         0,4         98,8        2           17,57       9,05        0,03         0,07        0,9       \r\n",
      "ACQ99          November          11                    2015             bebop       Cloud software  USA         380000000    Google Cloud Platform  Google         Bahrain       NEAR EAST             698585      665             1050,5                      24,21                         1,05           17,27                               16900               89,1          281,3              2,82        5,63        91,55       1           17,8        4,14        5            387         608       \r\n",
      "ACQ99          November          11                    2015             bebop       Cloud software  USA         380000000    Google Cloud Platform  Google         Bangladesh    ASIA (EX. NEAR EAST)  147365352   144000          1023,4                      0,40                          -0,71          62,6                                1900                43,1          7,3                62,11       3,07        34,82       2           29,8        8,27        199          198         603       \r\n",
      "ACQ99          November          11                    2015             bebop       Cloud software  USA         380000000    Google Cloud Platform  Google         Barbados      LATIN AMER. & CARIB   279912      431             649,5                       22,51                         -0,31          12,5                                15700               97,4          481,9              37,21       2,33        60,46       2           12,71       8,67        0,06         0,16        0,78      \r\n",
      "ACQ99          November          11                    2015             bebop       Cloud software  USA         380000000    Google Cloud Platform  Google         Belarus       C.W. OF IND. STATES   10293011    207600          49,6                        0,00                          2,54           13,37                               6100                99,6          319,1              29,55       0,6         69,85       4           11,16       14,02       93           316         591       \r\n",
      "ACQ99          November          11                    2015             bebop       Cloud software  USA         380000000    Google Cloud Platform  Google         Belgium       WESTERN EUROPE        10379067    30528           340,0                       0,22                          1,23           4,68                                29100               98,0          462,6              23,28       0,4         76,32       3           10,38       10,27       0,01         0,24        749       \r\n"
     ]
    }
   ],
   "source": [
    "select distinct table1.*, table2.* from acquisitions table1 join countries table2 limit 20"
   ]
  },
  {
   "cell_type": "markdown",
   "metadata": {},
   "source": [
    "Yararlandığım kaynaklar; https://www.tutorialspoint.com/sqlite/sqlite_using_joins.htm, \n",
    "\n",
    "https://www.techonthenet.com/sqlite/comparison_operators.php, \n",
    "\n",
    "https://stackoverflow.com/questions/41358767/remove-whitespace-from-all-data-in-column-sqlite"
   ]
  }
 ],
 "metadata": {
  "kernelspec": {
   "display_name": "Python 3",
   "language": "python",
   "name": "python3"
  },
  "language_info": {
   "codemirror_mode": {
    "name": "ipython",
    "version": 3
   },
   "file_extension": ".py",
   "mimetype": "text/x-python",
   "name": "python",
   "nbconvert_exporter": "python",
   "pygments_lexer": "ipython3",
   "version": "3.7.3"
  }
 },
 "nbformat": 4,
 "nbformat_minor": 2
}
